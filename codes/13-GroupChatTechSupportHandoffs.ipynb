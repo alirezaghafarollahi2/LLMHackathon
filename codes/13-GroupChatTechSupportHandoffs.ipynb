{
 "cells": [
  {
   "cell_type": "markdown",
   "id": "c12fd009-464b-4c5a-b71b-daba40e75206",
   "metadata": {},
   "source": [
    "# LLM agent Hackathon \n",
    "## Alireza Ghafarollahi, MIT"
   ]
  },
  {
   "cell_type": "markdown",
   "id": "a645493f-a6ab-4184-afe9-a17db1757808",
   "metadata": {},
   "source": [
    "# AG2: Building LLM-powered multi-agent systems"
   ]
  },
  {
   "cell_type": "code",
   "execution_count": null,
   "id": "c3d8b2cd-9fce-42dc-ada7-55795cf7b25b",
   "metadata": {},
   "outputs": [],
   "source": [
    "!pip install ag2\n",
    "!pip install openai"
   ]
  },
  {
   "cell_type": "code",
   "execution_count": 5,
   "id": "75eb2ea6-4962-4f05-b838-2f2ad0269ce1",
   "metadata": {},
   "outputs": [],
   "source": [
    "import json\n",
    "import os\n",
    "\n",
    "with open('config.json') as f:\n",
    "    config = json.load(f)\n",
    "\n",
    "OPENAI_API_KEY = config[\"api_key\"]\n",
    "os.environ[\"OPENAI_API_KEY\"] = OPENAI_API_KEY"
   ]
  },
  {
   "cell_type": "markdown",
   "id": "94d37f8a-6012-493b-b620-14fc8724e9d1",
   "metadata": {},
   "source": [
    "# Example: Group chat to assist the user with a tech-related query\n",
    "\n",
    "## Agents\n",
    "\n",
    "- ## coordinator agent\n",
    "\n",
    "- ## technical support agent\n",
    "\n",
    "- ## general support agent\n",
    "\n",
    "## Tools\n",
    "\n",
    "- ## Classify_query\n",
    "\n",
    "## Context variables\n",
    "\n",
    "# Enhance our system with Handoffs:\n",
    "\n",
    "## We will enhance our support system with multiple specialized agents that handle different aspects of customer service:\n",
    "\n",
    "- ## A coordinator agent that analyzes initial queries\n",
    "- ## A general support agent for non-technical questions\n",
    "- ## Specialists for different device types (computers and smartphones)\n",
    "- ## An advanced troubleshooting agent for persistent issues\n",
    "\n",
    "## This example demonstrates how a real-world support system might use handoffs to route customers efficiently."
   ]
  },
  {
   "cell_type": "code",
   "execution_count": 32,
   "id": "58fff4b1-6792-4580-aa24-0bc60ec22035",
   "metadata": {},
   "outputs": [],
   "source": [
    "from typing import Annotated\n",
    "from autogen import ConversableAgent, LLMConfig\n",
    "from autogen.agentchat import initiate_group_chat\n",
    "from autogen.agentchat.group.patterns import AutoPattern\n",
    "from autogen.agentchat.group import (\n",
    "    ContextVariables, ReplyResult, AgentTarget,\n",
    "    OnCondition, StringLLMCondition,\n",
    "    OnContextCondition, ExpressionContextCondition, ContextExpression,\n",
    "    RevertToUserTarget\n",
    ")"
   ]
  },
  {
   "cell_type": "markdown",
   "id": "70ad8ca4-2e38-48e3-a621-bf29f5061527",
   "metadata": {},
   "source": [
    "# Initialize context variables for our support system"
   ]
  },
  {
   "cell_type": "code",
   "execution_count": 33,
   "id": "a5ee9626-9996-4406-89df-5af8c7a93ed2",
   "metadata": {},
   "outputs": [],
   "source": [
    "support_context = ContextVariables(data={\n",
    "    \"query_count\": 0,\n",
    "    \"repeat_issue\": False,\n",
    "    \"previous_solutions\": [],\n",
    "    \"issue_type\": \"\",\n",
    "    \"issue_subtype\": \"\",\n",
    "})"
   ]
  },
  {
   "cell_type": "markdown",
   "id": "245bc7f8-ebb4-4544-ad06-52ab8d8dc7c2",
   "metadata": {},
   "source": [
    "# Create all our support agents"
   ]
  },
  {
   "cell_type": "code",
   "execution_count": 34,
   "id": "8c98bd61-76c1-4dc4-a323-ddb19f385d17",
   "metadata": {},
   "outputs": [],
   "source": [
    "# Configure the LLM\n",
    "llm_config = LLMConfig(api_type=\"openai\", model=\"gpt-4o-mini\")\n",
    "\n",
    "# Create all our support agents\n",
    "with llm_config:\n",
    "    # Main coordinator agent - the starting point for all user queries\n",
    "    coordinator_agent = ConversableAgent(\n",
    "        name=\"coordinator_agent\",\n",
    "        system_message=\"\"\"You are a support coordinator agent. Your role is to:\n",
    "        1. Determine if a query is technical or general\n",
    "        2. Use the classify_query function to route appropriately\n",
    "\n",
    "        Do not attempt to solve issues yourself - your job is proper routing.\"\"\"\n",
    "    )\n",
    "\n",
    "    # General support for non-technical questions\n",
    "    general_agent = ConversableAgent(\n",
    "        name=\"general_agent\",\n",
    "        system_message=\"\"\"You are a general support agent who handles non-technical questions.\n",
    "        If the user is a premium customer (check account_tier context variable),\n",
    "        you should transfer them directly to the premium support agent.\n",
    "        Otherwise, provide helpful responses to general inquiries.\"\"\"\n",
    "    )\n",
    "\n",
    "    # Tech agent for initial technical assessment\n",
    "    tech_agent = ConversableAgent(\n",
    "        name=\"tech_agent\",\n",
    "        system_message=\"\"\"You are a technical support agent who handles the initial assessment\n",
    "        of all technical issues.\n",
    "\n",
    "        If the user is a premium customer (check account_tier context variable),\n",
    "        you should transfer them directly to the premium support agent.\n",
    "\n",
    "        Otherwise, determine if the issue is related to:\n",
    "        - Computer issues (laptops, desktops, PCs, Macs)\n",
    "        - Smartphone issues (iPhones, Android phones, tablets)\n",
    "\n",
    "        And route to the appropriate specialist.\"\"\"\n",
    "    )\n",
    "\n",
    "    # Device-specific agents\n",
    "    computer_agent = ConversableAgent(\n",
    "        name=\"computer_agent\",\n",
    "        system_message=\"\"\"You are a computer specialist who handles issues with laptops, desktops,\n",
    "        PCs, and Macs. You provide troubleshooting for hardware and software issues specific to\n",
    "        computers. You're knowledgeable about Windows, macOS, Linux, and common computer peripherals.\n",
    "\n",
    "        For first-time issues, provide a solution directly.\n",
    "\n",
    "        If a user returns and says they tried your solution but are still having the issue,\n",
    "        use the check_repeat_issue function to escalate to advanced troubleshooting. Do not provide a solution\n",
    "        yourself for returning users, simply route it to advanced troubleshooting.\"\"\"\n",
    "    )\n",
    "\n",
    "    smartphone_agent = ConversableAgent(\n",
    "        name=\"smartphone_agent\",\n",
    "        system_message=\"\"\"You are a smartphone specialist who handles issues with mobile devices\n",
    "        including iPhones, Android phones, and tablets. You're knowledgeable about iOS, Android,\n",
    "        mobile apps, battery issues, screen problems, and connectivity troubleshooting.\n",
    "\n",
    "        For first-time issues, provide a solution directly.\n",
    "\n",
    "        If a user returns and says they tried your solution but are still having the issue,\n",
    "        use the check_repeat_issue function to escalate to advanced troubleshooting. Do not provide a solution\n",
    "        yourself for returning users, simply route it to advanced troubleshooting\"\"\"\n",
    "    )\n",
    "\n",
    "    # Advanced troubleshooting for complex issues\n",
    "    advanced_troubleshooting_agent = ConversableAgent(\n",
    "        name=\"advanced_troubleshooting_agent\",\n",
    "        system_message=\"\"\"You are an advanced troubleshooting specialist who handles complex,\n",
    "        persistent issues that weren't resolved by initial solutions. You provide deeper\n",
    "        diagnostic approaches and more comprehensive solutions for difficult technical problems.\"\"\"\n",
    "    )"
   ]
  },
  {
   "cell_type": "markdown",
   "id": "81e31e9f-db1a-49e8-ba8f-62cfa769541f",
   "metadata": {},
   "source": [
    "# Create tool functions with Context Variables and Handoffs"
   ]
  },
  {
   "cell_type": "code",
   "execution_count": 35,
   "id": "79458838-dde7-4707-ac8d-cbc5898f90b5",
   "metadata": {},
   "outputs": [],
   "source": [
    "def classify_query(\n",
    "    query: Annotated[str, \"The user query to classify\"],\n",
    "    context_variables: ContextVariables\n",
    ") -> ReplyResult:\n",
    "    \"\"\"Classify a user query and route to the appropriate agent.\"\"\"\n",
    "    # Update query count\n",
    "    context_variables[\"query_count\"] += 1\n",
    "\n",
    "    # Simple classification logic\n",
    "    technical_keywords = [\"error\", \"bug\", \"broken\", \"crash\", \"not working\", \"shutting down\",\n",
    "                         \"frozen\", \"blue screen\", \"won't start\", \"slow\", \"virus\"]\n",
    "\n",
    "    if any(keyword in query.lower() for keyword in technical_keywords):\n",
    "        return ReplyResult(\n",
    "            message=\"This appears to be a technical issue. Let me route you to our tech support team.\",\n",
    "            target=AgentTarget(tech_agent),\n",
    "            context_variables=context_variables\n",
    "        )\n",
    "    else:\n",
    "        return ReplyResult(\n",
    "            message=\"This appears to be a general question. Let me connect you with our general support team.\",\n",
    "            target=AgentTarget(general_agent),\n",
    "            context_variables=context_variables\n",
    "        )\n",
    "\n",
    "def check_repeat_issue(\n",
    "    description: Annotated[str, \"User's description of the continuing issue\"],\n",
    "    context_variables: ContextVariables\n",
    ") -> ReplyResult:\n",
    "    \"\"\"Check if this is a repeat of an issue that wasn't resolved.\"\"\"\n",
    "    # Mark this as a repeat issue in the context\n",
    "    context_variables[\"repeat_issue\"] = True\n",
    "    context_variables[\"continuing_issue\"] = description\n",
    "\n",
    "    return ReplyResult(\n",
    "        message=\"I understand that your issue wasn't resolved. Let me connect you with our advanced troubleshooting specialist.\",\n",
    "        target=AgentTarget(advanced_troubleshooting_agent),\n",
    "        context_variables=context_variables\n",
    "    )"
   ]
  },
  {
   "cell_type": "markdown",
   "id": "ebaf3e29-72de-475e-8d77-a1396a1fc3f7",
   "metadata": {},
   "source": [
    "# Add tool functions to the appropriate agents"
   ]
  },
  {
   "cell_type": "code",
   "execution_count": 36,
   "id": "0ccbdb66-3322-4b7c-bdee-df0454e27406",
   "metadata": {},
   "outputs": [],
   "source": [
    "coordinator_agent.functions = [classify_query]\n",
    "computer_agent.functions = [check_repeat_issue]\n",
    "smartphone_agent.functions = [check_repeat_issue]"
   ]
  },
  {
   "cell_type": "markdown",
   "id": "c4cd7384-048d-4a0b-ae7d-c2fdd56b0bfb",
   "metadata": {},
   "source": [
    "# Configuring LLM-Based Handoffs"
   ]
  },
  {
   "cell_type": "code",
   "execution_count": 37,
   "id": "6d3730b9-0ad0-45ea-a20b-c9964225cb45",
   "metadata": {},
   "outputs": [
    {
     "data": {
      "text/plain": [
       "Handoffs(context_conditions=[], llm_conditions=[], after_work=None)"
      ]
     },
     "execution_count": 37,
     "metadata": {},
     "output_type": "execute_result"
    }
   ],
   "source": [
    "tech_agent.handoffs"
   ]
  },
  {
   "cell_type": "code",
   "execution_count": 38,
   "id": "374dd3df-aad5-43d3-9481-aa1310432736",
   "metadata": {},
   "outputs": [
    {
     "data": {
      "text/plain": [
       "Handoffs(context_conditions=[], llm_conditions=[OnCondition(target=AgentTarget(agent_name='computer_agent'), condition=StringLLMCondition(prompt='Route to computer specialist when the issue involves laptops, desktops, PCs, or Macs.'), available=None, llm_function_name=None), OnCondition(target=AgentTarget(agent_name='smartphone_agent'), condition=StringLLMCondition(prompt='Route to smartphone specialist when the issue involves phones, mobile devices, iOS, or Android.'), available=None, llm_function_name=None)], after_work=None)"
      ]
     },
     "execution_count": 38,
     "metadata": {},
     "output_type": "execute_result"
    }
   ],
   "source": [
    "# Route based on device type using LLM-based handoffs\n",
    "tech_agent.handoffs.add_llm_conditions([\n",
    "    OnCondition(\n",
    "        target=AgentTarget(computer_agent),\n",
    "        condition=StringLLMCondition(prompt=\"Route to computer specialist when the issue involves laptops, desktops, PCs, or Macs.\"),\n",
    "    ),\n",
    "    OnCondition(\n",
    "        target=AgentTarget(smartphone_agent),\n",
    "        condition=StringLLMCondition(prompt=\"Route to smartphone specialist when the issue involves phones, mobile devices, iOS, or Android.\"),\n",
    "    )\n",
    "])"
   ]
  },
  {
   "cell_type": "markdown",
   "id": "29915244-51f6-4cce-a1da-1c42e9b846b5",
   "metadata": {},
   "source": [
    "# Configuring Context-Based Handoffs"
   ]
  },
  {
   "cell_type": "code",
   "execution_count": 39,
   "id": "871509d7-9601-4af8-add4-6022f22aac68",
   "metadata": {},
   "outputs": [
    {
     "data": {
      "text/plain": [
       "Handoffs(context_conditions=[OnContextCondition(target=AgentTarget(agent_name='advanced_troubleshooting_agent'), condition=ExpressionContextCondition(expression=ContextExpression(expression='${repeat_issue} == True')), available=None)], llm_conditions=[], after_work=None)"
      ]
     },
     "execution_count": 39,
     "metadata": {},
     "output_type": "execute_result"
    }
   ],
   "source": [
    "# Configure handoffs for computer agent - for repeat issues\n",
    "computer_agent.handoffs.add_context_conditions([\n",
    "    OnContextCondition(\n",
    "        target=AgentTarget(advanced_troubleshooting_agent),\n",
    "        condition=ExpressionContextCondition(\n",
    "            expression=ContextExpression(\"${repeat_issue} == True\")\n",
    "        )\n",
    "    )\n",
    "])\n",
    "\n",
    "# Similarly for smartphone agent\n",
    "smartphone_agent.handoffs.add_context_conditions([\n",
    "    OnContextCondition(\n",
    "        target=AgentTarget(advanced_troubleshooting_agent),\n",
    "        condition=ExpressionContextCondition(\n",
    "            expression=ContextExpression(\"${repeat_issue} == True\")\n",
    "        )\n",
    "    )\n",
    "])"
   ]
  },
  {
   "cell_type": "markdown",
   "id": "df89373a-0177-467d-b14d-c1c91dc390c5",
   "metadata": {},
   "source": [
    "# Setting Default After-Work Behavior"
   ]
  },
  {
   "cell_type": "code",
   "execution_count": 40,
   "id": "84a10668-676f-4a9b-9c06-f4a842812ff0",
   "metadata": {},
   "outputs": [
    {
     "data": {
      "text/plain": [
       "Handoffs(context_conditions=[], llm_conditions=[], after_work=RevertToUserTarget())"
      ]
     },
     "execution_count": 40,
     "metadata": {},
     "output_type": "execute_result"
    }
   ],
   "source": [
    "# Configure handoffs for advanced troubleshooting agent\n",
    "advanced_troubleshooting_agent.handoffs.set_after_work(RevertToUserTarget())\n",
    "\n",
    "# General agent reverts to user after helping\n",
    "general_agent.handoffs.set_after_work(RevertToUserTarget())"
   ]
  },
  {
   "cell_type": "markdown",
   "id": "ad01922e-674c-4112-9913-3e0b1ecb4d2e",
   "metadata": {},
   "source": [
    "# Putting it all together"
   ]
  },
  {
   "cell_type": "code",
   "execution_count": 43,
   "id": "ad66cb8c-cb11-4903-b69d-508e8cea4bc6",
   "metadata": {},
   "outputs": [],
   "source": [
    "# Create the user agent\n",
    "user = ConversableAgent(name=\"user\", human_input_mode=\"ALWAYS\")\n",
    "\n",
    "# Set up the conversation pattern\n",
    "pattern = AutoPattern(\n",
    "    initial_agent=coordinator_agent,\n",
    "    agents=[\n",
    "        coordinator_agent,\n",
    "        tech_agent,\n",
    "        computer_agent,\n",
    "        smartphone_agent,\n",
    "        advanced_troubleshooting_agent,\n",
    "        general_agent\n",
    "    ],\n",
    "    user_agent=user,\n",
    "    context_variables=support_context,\n",
    "    group_manager_args = {\"llm_config\": llm_config},\n",
    ")"
   ]
  },
  {
   "cell_type": "markdown",
   "id": "380f793b-f20a-4911-b86b-32e43ace65fd",
   "metadata": {},
   "source": [
    "# Run the chat"
   ]
  },
  {
   "cell_type": "code",
   "execution_count": 44,
   "id": "aed4d09e-bd80-4134-94fa-b9965582f8cd",
   "metadata": {},
   "outputs": [
    {
     "name": "stdout",
     "output_type": "stream",
     "text": [
      "user (to chat_manager):\n",
      "\n",
      "My laptop keeps shutting down randomly. Can you help?\n",
      "\n",
      "--------------------------------------------------------------------------------\n",
      "\n",
      "Next speaker: coordinator_agent\n",
      "\n",
      "\n",
      ">>>>>>>> USING AUTO REPLY...\n",
      "coordinator_agent (to chat_manager):\n",
      "\n",
      "This query appears to be technical in nature due to the issue with your laptop shutting down. I will route it accordingly. \n",
      "\n",
      "**Routing to technical support.**\n",
      "\n",
      "--------------------------------------------------------------------------------\n",
      "\n",
      "Next speaker: tech_agent\n",
      "\n",
      "\n",
      ">>>>>>>> USING AUTO REPLY...\n",
      "tech_agent (to chat_manager):\n",
      "\n",
      "***** Suggested tool call (call_jlG51rIuybh3FQ4VbqacIKml): transfer_to_computer_agent_1 *****\n",
      "Arguments: \n",
      "{}\n",
      "*********************************************************************************************\n",
      "\n",
      "--------------------------------------------------------------------------------\n",
      "\n",
      "Next speaker: _Group_Tool_Executor\n",
      "\n",
      "\n",
      ">>>>>>>> EXECUTING FUNCTION transfer_to_computer_agent_1...\n",
      "Call ID: call_jlG51rIuybh3FQ4VbqacIKml\n",
      "Input arguments: {}\n",
      "_Group_Tool_Executor (to chat_manager):\n",
      "\n",
      "***** Response from calling tool (call_jlG51rIuybh3FQ4VbqacIKml) *****\n",
      "Transfer to computer_agent\n",
      "**********************************************************************\n",
      "\n",
      "--------------------------------------------------------------------------------\n",
      "\n",
      "Next speaker: computer_agent\n",
      "\n",
      "\n",
      ">>>>>>>> USING AUTO REPLY...\n",
      "computer_agent (to chat_manager):\n",
      "\n",
      "There are several potential reasons why your laptop might be shutting down randomly. Here are some troubleshooting steps you can try:\n",
      "\n",
      "1. **Check for Overheating**: Ensure that your laptop vents are not blocked and the fans are working. Use a can of compressed air to clean any dust from the vents. If your laptop is overheating, it may shut down to prevent damage.\n",
      "\n",
      "2. **Run a Battery Check**: If your laptop is older, the battery may be failing. Check your battery health in your operating system's settings. If you’re using Windows, navigate to Settings > System > Battery. For macOS, click the Apple menu > About This Mac > System Report, then select Power.\n",
      "\n",
      "3. **Update Drivers and OS**: Make sure your operating system and drivers are up to date. For Windows, go to Settings > Update & Security > Windows Update. For macOS, check System Preferences > Software Update.\n",
      "\n",
      "4. **Check for Malware**: Run a full malware scan with your antivirus software to rule out any malicious software causing issues.\n",
      "\n",
      "5. **Inspect Hardware**: If possible, check the RAM and hard drive for failures. In Windows, you can run the Windows Memory Diagnostic by typing \"mdsched.exe\" in the search bar; for hard drives, use CHKDSK.\n",
      "\n",
      "If none of these steps resolve the issue, please let me know.\n",
      "\n",
      "--------------------------------------------------------------------------------\n",
      "\n",
      "Next speaker: user\n",
      "\n"
     ]
    },
    {
     "name": "stdin",
     "output_type": "stream",
     "text": [
      "Replying as user. Provide feedback to chat_manager. Press enter to skip and use auto-reply, or type 'exit' to end the conversation:  I tried all your suggestions and none of them fixed my issue\n"
     ]
    },
    {
     "name": "stdout",
     "output_type": "stream",
     "text": [
      "user (to chat_manager):\n",
      "\n",
      "I tried all your suggestions and none of them fixed my issue\n",
      "\n",
      "--------------------------------------------------------------------------------\n",
      "\n",
      "Next speaker: computer_agent\n",
      "\n",
      "\n",
      ">>>>>>>> USING AUTO REPLY...\n",
      "computer_agent (to chat_manager):\n",
      "\n",
      "It sounds like you're still experiencing the same problem with your laptop. I will route you to advanced troubleshooting for further assistance. \n",
      "\n",
      "**Routing to advanced troubleshooting.**\n",
      "\n",
      "--------------------------------------------------------------------------------\n",
      "\n",
      "Next speaker: advanced_troubleshooting_agent\n",
      "\n",
      "\n",
      ">>>>>>>> USING AUTO REPLY...\n",
      "advanced_troubleshooting_agent (to chat_manager):\n",
      "\n",
      "Thank you for your patience. Let's take a deeper look at the situation with your laptop. Since the initial steps didn't resolve the issue, we'll perform more targeted diagnostics to identify the root cause. Here are some advanced troubleshooting approaches:\n",
      "\n",
      "### 1. **Check Event Viewer (Windows)**\n",
      "The Event Viewer can provide insights into any errors or warnings that occur right before the shutdown.\n",
      "- Type `Event Viewer` in the Start menu and open it.\n",
      "- Navigate to **Windows Logs** > **System**.\n",
      "- Look for any critical errors or warnings that may indicate what caused the shutdown. Pay attention to events marked with \"Error\" or \"Critical,\" especially around the time the shutdown occurred.\n",
      "\n",
      "### 2. **Perform Stress Testing**\n",
      "Conduct stress tests on your CPU and hardware components to see if the issue arises under load.\n",
      "- Use software like **Prime95** or **OCCT** for CPU stress testing.\n",
      "- Monitor temperatures using tools like **HWMonitor** or **Core Temp** to see if overheating occurs during stress tests.\n",
      "\n",
      "### 3. **Check Power Supply and Hit the Hardware**\n",
      "- If the laptop is plugged into a power outlet, test it with a different charger. A failing power adapter can cause shutdowns.\n",
      "- If possible, remove the battery (if it’s replaceable) and run the laptop solely on AC power to see if the problem persists.\n",
      "\n",
      "### 4. **Battery and Power Management Settings**\n",
      "- Go to **Control Panel** > **Power Options** > **Change Plan Settings** > **Change advanced power settings**. Disable features like \"Sleep,\" \"Hibernate,\" or adjust the \"Processor power management\" to not allow the CPU to throttle.\n",
      "\n",
      "### 5. **System Integrity Check (Windows)**\n",
      "Run the System File Checker to repair any potential issues with Windows system files.\n",
      "- Open Command Prompt as Administrator and run: `sfc /scannow`.\n",
      "\n",
      "### 6. **Check for Faulty Components**\n",
      "- **RAM issues** can cause sudden shutdowns. Try testing with one RAM module at a time, if you have multiple sticks, to isolate any faulty memory.\n",
      "- **Hard Drive Health**: Use SMART diagnostics with tools like CrystalDiskInfo or HDTune to assess the health of your hard drive. Look for any warnings about logical or physical errors.\n",
      "\n",
      "### 7. **BIOS/Firmware Update**\n",
      "Make sure your laptop's BIOS/UEFI is up to date. An outdated BIOS can lead to incompatibility issues, especially with newer hardware or software updates:\n",
      "- Visit the manufacturer’s website to download the latest version and follow their instructions for updating.\n",
      "\n",
      "### 8. **Reinstall OS**\n",
      "If all else fails, consider backing up your data and performing a full operating system reinstall. This will help rule out any software-related issues.\n",
      "\n",
      "If the problem still persists after these diagnostic approaches, it may indicate a more severe hardware failure that might require professional servicing. Let me know how it goes or if you need further assistance on any specific step!\n",
      "\n",
      "--------------------------------------------------------------------------------\n",
      "\n",
      "Next speaker: user\n",
      "\n"
     ]
    },
    {
     "name": "stdin",
     "output_type": "stream",
     "text": [
      "Replying as user. Provide feedback to chat_manager. Press enter to skip and use auto-reply, or type 'exit' to end the conversation:  exit\n"
     ]
    },
    {
     "name": "stdout",
     "output_type": "stream",
     "text": [
      "\n",
      ">>>>>>>> TERMINATING RUN (fc9c1b25-1cef-41ca-afed-7f7c86da1fdb): User requested to end the conversation\n",
      "\n",
      ">>>>>>>> TERMINATING RUN (9db5a495-4bcb-4d8e-8b26-71da4f7829be): No reply generated\n"
     ]
    }
   ],
   "source": [
    "result, final_context, last_agent = initiate_group_chat(\n",
    "    pattern=pattern,\n",
    "    messages=\"My laptop keeps shutting down randomly. Can you help?\",\n",
    "    max_rounds=15\n",
    ")"
   ]
  },
  {
   "cell_type": "code",
   "execution_count": null,
   "id": "745a2951-db81-44de-8eb3-932823991d29",
   "metadata": {},
   "outputs": [],
   "source": []
  }
 ],
 "metadata": {
  "kernelspec": {
   "display_name": "Python 3 (ipykernel)",
   "language": "python",
   "name": "python3"
  },
  "language_info": {
   "codemirror_mode": {
    "name": "ipython",
    "version": 3
   },
   "file_extension": ".py",
   "mimetype": "text/x-python",
   "name": "python",
   "nbconvert_exporter": "python",
   "pygments_lexer": "ipython3",
   "version": "3.10.0"
  }
 },
 "nbformat": 4,
 "nbformat_minor": 5
}
