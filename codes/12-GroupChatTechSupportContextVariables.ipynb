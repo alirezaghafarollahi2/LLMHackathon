{
 "cells": [
  {
   "cell_type": "markdown",
   "id": "c12fd009-464b-4c5a-b71b-daba40e75206",
   "metadata": {},
   "source": [
    "# LLM agent Hackathon \n",
    "## Alireza Ghafarollahi, MIT"
   ]
  },
  {
   "cell_type": "markdown",
   "id": "a645493f-a6ab-4184-afe9-a17db1757808",
   "metadata": {},
   "source": [
    "# AG2: Building LLM-powered multi-agent systems"
   ]
  },
  {
   "cell_type": "code",
   "execution_count": null,
   "id": "c3d8b2cd-9fce-42dc-ada7-55795cf7b25b",
   "metadata": {},
   "outputs": [],
   "source": [
    "!pip install ag2\n",
    "!pip install openai"
   ]
  },
  {
   "cell_type": "code",
   "execution_count": 3,
   "id": "75eb2ea6-4962-4f05-b838-2f2ad0269ce1",
   "metadata": {},
   "outputs": [],
   "source": [
    "import json\n",
    "import os\n",
    "\n",
    "with open('config.json') as f:\n",
    "    config = json.load(f)\n",
    "\n",
    "OPENAI_API_KEY = config[\"api_key\"]\n",
    "os.environ[\"OPENAI_API_KEY\"] = OPENAI_API_KEY"
   ]
  },
  {
   "cell_type": "markdown",
   "id": "94d37f8a-6012-493b-b620-14fc8724e9d1",
   "metadata": {},
   "source": [
    "# Example: Group chat to assist the user with a tech-related query\n",
    "\n",
    "## Agents\n",
    "\n",
    "- ## coordinator agent\n",
    "\n",
    "- ## technical support agent\n",
    "\n",
    "- ## general support agent\n",
    "\n",
    "## Tools\n",
    "\n",
    "- ## Classify_query\n",
    "\n",
    "# Enhance our system with context variables:\n",
    "\n",
    "- ## Create initial context variables with session information\n",
    "- ## Track and store each user query in the context\n",
    "- ## Record solutions provided by technical support\n",
    "- ## Intentionally print the context variables before and after processing in the functions for debugging"
   ]
  },
  {
   "cell_type": "code",
   "execution_count": 4,
   "id": "58fff4b1-6792-4580-aa24-0bc60ec22035",
   "metadata": {},
   "outputs": [],
   "source": [
    "from typing import Annotated\n",
    "from datetime import datetime\n",
    "from autogen import ConversableAgent, LLMConfig\n",
    "from autogen.agentchat import initiate_group_chat\n",
    "from autogen.agentchat.group.patterns import AutoPattern\n",
    "from autogen.agentchat.group import ReplyResult, AgentNameTarget, ContextVariables"
   ]
  },
  {
   "cell_type": "markdown",
   "id": "70ad8ca4-2e38-48e3-a621-bf29f5061527",
   "metadata": {},
   "source": [
    "# Initialize context variables"
   ]
  },
  {
   "cell_type": "code",
   "execution_count": 5,
   "id": "a5ee9626-9996-4406-89df-5af8c7a93ed2",
   "metadata": {},
   "outputs": [],
   "source": [
    "support_context = ContextVariables(data={\n",
    "    \"session_start\": datetime.now().isoformat(),\n",
    "    \"query_history\": [],\n",
    "    \"solutions_provided\": [],\n",
    "    \"query_count\": 0,\n",
    "    \"solution_count\": 0\n",
    "})"
   ]
  },
  {
   "cell_type": "markdown",
   "id": "81e31e9f-db1a-49e8-ba8f-62cfa769541f",
   "metadata": {},
   "source": [
    "# Define tools that use context variables"
   ]
  },
  {
   "cell_type": "code",
   "execution_count": 6,
   "id": "c1b16f9a-89e4-489f-b009-c90da075c87c",
   "metadata": {},
   "outputs": [],
   "source": [
    "def classify_and_log_query(\n",
    "    query: Annotated[str, \"The user query to classify\"],\n",
    "    context_variables: ContextVariables\n",
    ") -> ReplyResult:\n",
    "    \"\"\"Classify a user query as technical or general and log it in the context.\"\"\"\n",
    "\n",
    "    # Printing the context variables\n",
    "    print(f\"{context_variables.to_dict()=}\")\n",
    "\n",
    "    # Record this query in history\n",
    "    query_history = context_variables.get(\"query_history\", [])\n",
    "    query_record = {\n",
    "        \"timestamp\": datetime.now().isoformat(),\n",
    "        \"query\": query\n",
    "    }\n",
    "    query_history.append(query_record)\n",
    "    context_variables[\"query_history\"] = query_history\n",
    "    context_variables[\"last_query\"] = query\n",
    "    context_variables[\"query_count\"] = len(query_history)\n",
    "\n",
    "    # Basic classification logic\n",
    "    technical_keywords = [\"error\", \"bug\", \"broken\", \"crash\", \"not working\", \"shutting down\"]\n",
    "    is_technical = any(keyword in query.lower() for keyword in technical_keywords)\n",
    "\n",
    "    # Update context with classification\n",
    "    if is_technical:\n",
    "        target_agent = AgentNameTarget(\"tech_agent\")\n",
    "        context_variables[\"query_type\"] = \"technical\"\n",
    "        message = \"This appears to be a technical issue. Routing to technical support...\"\n",
    "    else:\n",
    "        target_agent = AgentNameTarget(\"general_agent\")\n",
    "        context_variables[\"query_type\"] = \"general\"\n",
    "        message = \"This appears to be a general question. Routing to general support...\"\n",
    "\n",
    "    # Printing the context variables\n",
    "    print(f\"{context_variables.to_dict()=}\")\n",
    "\n",
    "    return ReplyResult(\n",
    "        message=message,\n",
    "        target=target_agent,\n",
    "        context_variables=context_variables\n",
    "    )\n",
    "\n",
    "def provide_technical_solution(\n",
    "    solution: Annotated[str, \"Technical solution to provide\"],\n",
    "    context_variables: ContextVariables\n",
    ") -> ReplyResult:\n",
    "    \"\"\"Provide a technical solution and record it in the context.\"\"\"\n",
    "\n",
    "    # Printing the context variables\n",
    "    print(f\"{context_variables.to_dict()=}\")\n",
    "\n",
    "    # Record the solution\n",
    "    last_query = context_variables.get(\"last_query\", \"your issue\")\n",
    "    solutions_provided = context_variables.get(\"solutions_provided\", [])\n",
    "\n",
    "    solution_record = {\n",
    "        \"timestamp\": datetime.now().isoformat(),\n",
    "        \"query\": last_query,\n",
    "        \"solution\": solution\n",
    "    }\n",
    "    solutions_provided.append(solution_record)\n",
    "\n",
    "    # Update context\n",
    "    context_variables[\"solutions_provided\"] = solutions_provided\n",
    "    context_variables[\"last_solution\"] = solution\n",
    "    context_variables[\"solution_count\"] = len(solutions_provided)\n",
    "\n",
    "    # Printing the context variables\n",
    "    print(f\"{context_variables.to_dict()=}\")\n",
    "\n",
    "    return ReplyResult(\n",
    "        message=solution,\n",
    "        context_variables=context_variables\n",
    "    )"
   ]
  },
  {
   "cell_type": "markdown",
   "id": "abf178eb-cbb0-4dae-af9d-ae53f3635d25",
   "metadata": {},
   "source": [
    "# Create the agents"
   ]
  },
  {
   "cell_type": "code",
   "execution_count": 8,
   "id": "57c52784-471b-41ca-a673-ed841033ceba",
   "metadata": {},
   "outputs": [],
   "source": [
    "llm_config = LLMConfig(api_type=\"openai\", model=\"gpt-4o-mini\")\n",
    "\n",
    "with llm_config:\n",
    "    coordinator_agent = ConversableAgent(\n",
    "        name=\"coordinator_agent\",\n",
    "        system_message=\"\"\"You are a coordinator agent. For each user query,\n",
    "        identify whether it is a technical issue or a general question.\n",
    "        Use the classify_and_log_query tool to categorize and log queries.\"\"\",\n",
    "        functions=[classify_and_log_query]\n",
    "    )\n",
    "\n",
    "    tech_agent = ConversableAgent(\n",
    "        name=\"tech_agent\",\n",
    "        system_message=\"\"\"You solve technical problems like software bugs\n",
    "        and hardware issues. After analyzing the problem, use the provide_technical_solution\n",
    "        tool to format your response consistently and log it for future reference.\n",
    "\n",
    "        Check context variables for any user history before responding.\"\"\",\n",
    "        functions=[provide_technical_solution]\n",
    "    )\n",
    "\n",
    "    general_agent = ConversableAgent(\n",
    "        name=\"general_agent\",\n",
    "        system_message=\"\"\"You handle general, non-technical support questions.\n",
    "        Check context variables for user history before responding to provide\n",
    "        a personalized experience.\"\"\"\n",
    "    )\n",
    "\n",
    "# User agent\n",
    "user = ConversableAgent(name=\"user\", human_input_mode=\"ALWAYS\")"
   ]
  },
  {
   "cell_type": "markdown",
   "id": "ad01922e-674c-4112-9913-3e0b1ecb4d2e",
   "metadata": {},
   "source": [
    "# Set up the conversation pattern with context variables"
   ]
  },
  {
   "cell_type": "code",
   "execution_count": 9,
   "id": "ad66cb8c-cb11-4903-b69d-508e8cea4bc6",
   "metadata": {},
   "outputs": [],
   "source": [
    "pattern = AutoPattern(\n",
    "    initial_agent=coordinator_agent,\n",
    "    agents=[coordinator_agent, tech_agent, general_agent],\n",
    "    user_agent=user,\n",
    "    context_variables=support_context,  # Pass our initialized context\n",
    "    group_manager_args={\"llm_config\": llm_config}\n",
    ")"
   ]
  },
  {
   "cell_type": "markdown",
   "id": "380f793b-f20a-4911-b86b-32e43ace65fd",
   "metadata": {},
   "source": [
    "# Run the chat"
   ]
  },
  {
   "cell_type": "code",
   "execution_count": 10,
   "id": "aed4d09e-bd80-4134-94fa-b9965582f8cd",
   "metadata": {},
   "outputs": [
    {
     "name": "stdout",
     "output_type": "stream",
     "text": [
      "user (to chat_manager):\n",
      "\n",
      "My laptop keeps shutting down randomly. Can you help?\n",
      "\n",
      "--------------------------------------------------------------------------------\n",
      "\n",
      "Next speaker: coordinator_agent\n",
      "\n",
      "\n",
      ">>>>>>>> USING AUTO REPLY...\n",
      "coordinator_agent (to chat_manager):\n",
      "\n",
      "***** Suggested tool call (call_tgmeap2YCWq4G5lz0SdFAKAl): classify_and_log_query *****\n",
      "Arguments: \n",
      "{\"query\":\"My laptop keeps shutting down randomly. Can you help?\"}\n",
      "***************************************************************************************\n",
      "\n",
      "--------------------------------------------------------------------------------\n",
      "\n",
      "Next speaker: _Group_Tool_Executor\n",
      "\n",
      "\n",
      ">>>>>>>> EXECUTING FUNCTION classify_and_log_query...\n",
      "Call ID: call_tgmeap2YCWq4G5lz0SdFAKAl\n",
      "Input arguments: {'query': 'My laptop keeps shutting down randomly. Can you help?'}\n",
      "context_variables.to_dict()={'session_start': '2025-05-26T23:33:59.464579', 'query_history': [{'timestamp': '2025-05-26T23:34:17.998150', 'query': 'My laptop keeps shutting down randomly. Can you help?'}], 'solutions_provided': [], 'query_count': 1, 'solution_count': 0, 'last_query': 'My laptop keeps shutting down randomly. Can you help?', 'query_type': 'technical'}\n",
      "context_variables.to_dict()={'session_start': '2025-05-26T23:33:59.464579', 'query_history': [{'timestamp': '2025-05-26T23:34:17.998150', 'query': 'My laptop keeps shutting down randomly. Can you help?'}, {'timestamp': '2025-05-26T23:35:07.504984', 'query': 'My laptop keeps shutting down randomly. Can you help?'}], 'solutions_provided': [], 'query_count': 2, 'solution_count': 0, 'last_query': 'My laptop keeps shutting down randomly. Can you help?', 'query_type': 'technical'}\n",
      "_Group_Tool_Executor (to chat_manager):\n",
      "\n",
      "***** Response from calling tool (call_tgmeap2YCWq4G5lz0SdFAKAl) *****\n",
      "This appears to be a technical issue. Routing to technical support...\n",
      "**********************************************************************\n",
      "\n",
      "--------------------------------------------------------------------------------\n",
      "\n",
      "Next speaker: tech_agent\n",
      "\n",
      "\n",
      ">>>>>>>> USING AUTO REPLY...\n",
      "tech_agent (to chat_manager):\n",
      "\n",
      "***** Suggested tool call (call_Fx36AB6Y5SOZQFkD4Xi773UR): provide_technical_solution *****\n",
      "Arguments: \n",
      "{\"solution\":\"If your laptop keeps shutting down randomly, it could be due to several reasons: overheating, a failing battery, faulty hardware, or software issues. Here are steps you can take to troubleshoot:\\n\\n1. **Check for Overheating:** Ensure that the laptop vents are not blocked and that it is not overheating. Clean any dust from the fans and vents.\\n\\n2. **Battery Health:** Check the battery health status in your system settings and consider performing a battery calibration. If the battery is old or damaged, it might need replacement.\\n\\n3. **Hardware Diagnostics:** Run hardware diagnostics, which is sometimes available in the BIOS or through system tools provided by the laptop manufacturer.\\n\\n4. **Software Check:** Make sure your operating system is up to date and check for any recent software installations that might be causing instability.\\n\\n5. **Event Viewer:** Check the Event Viewer on your laptop for any critical errors reported before the shutdowns occur.\\n\\nIf the issue persists after these checks, it might be advisable to consult a technician.\"}\n",
      "*******************************************************************************************\n",
      "\n",
      "--------------------------------------------------------------------------------\n",
      "\n",
      "Next speaker: _Group_Tool_Executor\n",
      "\n",
      "\n",
      ">>>>>>>> EXECUTING FUNCTION provide_technical_solution...\n",
      "Call ID: call_Fx36AB6Y5SOZQFkD4Xi773UR\n",
      "Input arguments: {'solution': 'If your laptop keeps shutting down randomly, it could be due to several reasons: overheating, a failing battery, faulty hardware, or software issues. Here are steps you can take to troubleshoot:\\n\\n1. **Check for Overheating:** Ensure that the laptop vents are not blocked and that it is not overheating. Clean any dust from the fans and vents.\\n\\n2. **Battery Health:** Check the battery health status in your system settings and consider performing a battery calibration. If the battery is old or damaged, it might need replacement.\\n\\n3. **Hardware Diagnostics:** Run hardware diagnostics, which is sometimes available in the BIOS or through system tools provided by the laptop manufacturer.\\n\\n4. **Software Check:** Make sure your operating system is up to date and check for any recent software installations that might be causing instability.\\n\\n5. **Event Viewer:** Check the Event Viewer on your laptop for any critical errors reported before the shutdowns occur.\\n\\nIf the issue persists after these checks, it might be advisable to consult a technician.'}\n",
      "context_variables.to_dict()={'session_start': '2025-05-26T23:33:59.464579', 'query_history': [{'timestamp': '2025-05-26T23:34:17.998150', 'query': 'My laptop keeps shutting down randomly. Can you help?'}, {'timestamp': '2025-05-26T23:35:07.504984', 'query': 'My laptop keeps shutting down randomly. Can you help?'}], 'solutions_provided': [], 'query_count': 2, 'solution_count': 0, 'last_query': 'My laptop keeps shutting down randomly. Can you help?', 'query_type': 'technical'}\n",
      "context_variables.to_dict()={'session_start': '2025-05-26T23:33:59.464579', 'query_history': [{'timestamp': '2025-05-26T23:34:17.998150', 'query': 'My laptop keeps shutting down randomly. Can you help?'}, {'timestamp': '2025-05-26T23:35:07.504984', 'query': 'My laptop keeps shutting down randomly. Can you help?'}], 'solutions_provided': [{'timestamp': '2025-05-26T23:35:11.871700', 'query': 'My laptop keeps shutting down randomly. Can you help?', 'solution': 'If your laptop keeps shutting down randomly, it could be due to several reasons: overheating, a failing battery, faulty hardware, or software issues. Here are steps you can take to troubleshoot:\\n\\n1. **Check for Overheating:** Ensure that the laptop vents are not blocked and that it is not overheating. Clean any dust from the fans and vents.\\n\\n2. **Battery Health:** Check the battery health status in your system settings and consider performing a battery calibration. If the battery is old or damaged, it might need replacement.\\n\\n3. **Hardware Diagnostics:** Run hardware diagnostics, which is sometimes available in the BIOS or through system tools provided by the laptop manufacturer.\\n\\n4. **Software Check:** Make sure your operating system is up to date and check for any recent software installations that might be causing instability.\\n\\n5. **Event Viewer:** Check the Event Viewer on your laptop for any critical errors reported before the shutdowns occur.\\n\\nIf the issue persists after these checks, it might be advisable to consult a technician.'}], 'query_count': 2, 'solution_count': 1, 'last_query': 'My laptop keeps shutting down randomly. Can you help?', 'query_type': 'technical', 'last_solution': 'If your laptop keeps shutting down randomly, it could be due to several reasons: overheating, a failing battery, faulty hardware, or software issues. Here are steps you can take to troubleshoot:\\n\\n1. **Check for Overheating:** Ensure that the laptop vents are not blocked and that it is not overheating. Clean any dust from the fans and vents.\\n\\n2. **Battery Health:** Check the battery health status in your system settings and consider performing a battery calibration. If the battery is old or damaged, it might need replacement.\\n\\n3. **Hardware Diagnostics:** Run hardware diagnostics, which is sometimes available in the BIOS or through system tools provided by the laptop manufacturer.\\n\\n4. **Software Check:** Make sure your operating system is up to date and check for any recent software installations that might be causing instability.\\n\\n5. **Event Viewer:** Check the Event Viewer on your laptop for any critical errors reported before the shutdowns occur.\\n\\nIf the issue persists after these checks, it might be advisable to consult a technician.'}\n",
      "_Group_Tool_Executor (to chat_manager):\n",
      "\n",
      "***** Response from calling tool (call_Fx36AB6Y5SOZQFkD4Xi773UR) *****\n",
      "If your laptop keeps shutting down randomly, it could be due to several reasons: overheating, a failing battery, faulty hardware, or software issues. Here are steps you can take to troubleshoot:\n",
      "\n",
      "1. **Check for Overheating:** Ensure that the laptop vents are not blocked and that it is not overheating. Clean any dust from the fans and vents.\n",
      "\n",
      "2. **Battery Health:** Check the battery health status in your system settings and consider performing a battery calibration. If the battery is old or damaged, it might need replacement.\n",
      "\n",
      "3. **Hardware Diagnostics:** Run hardware diagnostics, which is sometimes available in the BIOS or through system tools provided by the laptop manufacturer.\n",
      "\n",
      "4. **Software Check:** Make sure your operating system is up to date and check for any recent software installations that might be causing instability.\n",
      "\n",
      "5. **Event Viewer:** Check the Event Viewer on your laptop for any critical errors reported before the shutdowns occur.\n",
      "\n",
      "If the issue persists after these checks, it might be advisable to consult a technician.\n",
      "**********************************************************************\n",
      "\n",
      "--------------------------------------------------------------------------------\n",
      "\n",
      "Next speaker: tech_agent\n",
      "\n",
      "\n",
      ">>>>>>>> USING AUTO REPLY...\n",
      "tech_agent (to chat_manager):\n",
      "\n",
      "If your laptop keeps shutting down randomly, it could be due to several reasons: overheating, a failing battery, faulty hardware, or software issues. Here are steps you can take to troubleshoot:\n",
      "\n",
      "1. **Check for Overheating:** Ensure that the laptop vents are not blocked and that it is not overheating. Clean any dust from the fans and vents.\n",
      "\n",
      "2. **Battery Health:** Check the battery health status in your system settings and consider performing a battery calibration. If the battery is old or damaged, it might need replacement.\n",
      "\n",
      "3. **Hardware Diagnostics:** Run hardware diagnostics, which is sometimes available in the BIOS or through system tools provided by the laptop manufacturer.\n",
      "\n",
      "4. **Software Check:** Make sure your operating system is up to date and check for any recent software installations that might be causing instability.\n",
      "\n",
      "5. **Event Viewer:** Check the Event Viewer on your laptop for any critical errors reported before the shutdowns occur.\n",
      "\n",
      "If the issue persists after these checks, it might be advisable to consult a technician.\n",
      "\n",
      "--------------------------------------------------------------------------------\n",
      "\n",
      "Next speaker: user\n",
      "\n"
     ]
    },
    {
     "name": "stdin",
     "output_type": "stream",
     "text": [
      "Replying as user. Provide feedback to chat_manager. Press enter to skip and use auto-reply, or type 'exit' to end the conversation:  exit\n"
     ]
    },
    {
     "name": "stdout",
     "output_type": "stream",
     "text": [
      "\n",
      ">>>>>>>> TERMINATING RUN (898bf5be-0590-40a3-8a50-0fd72ce9687a): User requested to end the conversation\n",
      "\n",
      ">>>>>>>> TERMINATING RUN (d803ed87-cf75-4308-960d-6599274b32be): No reply generated\n"
     ]
    }
   ],
   "source": [
    "result, final_context, last_agent = initiate_group_chat(\n",
    "    pattern=pattern,\n",
    "    messages=\"My laptop keeps shutting down randomly. Can you help?\",\n",
    "    max_rounds=10\n",
    ")"
   ]
  },
  {
   "cell_type": "code",
   "execution_count": 12,
   "id": "5498bdaa-91d6-4468-a59e-72178d623ac7",
   "metadata": {},
   "outputs": [
    {
     "data": {
      "text/plain": [
       "{'session_start': '2025-05-26T23:33:59.464579',\n",
       " 'query_history': [{'timestamp': '2025-05-26T23:34:17.998150',\n",
       "   'query': 'My laptop keeps shutting down randomly. Can you help?'},\n",
       "  {'timestamp': '2025-05-26T23:35:07.504984',\n",
       "   'query': 'My laptop keeps shutting down randomly. Can you help?'}],\n",
       " 'solutions_provided': [{'timestamp': '2025-05-26T23:35:11.871700',\n",
       "   'query': 'My laptop keeps shutting down randomly. Can you help?',\n",
       "   'solution': 'If your laptop keeps shutting down randomly, it could be due to several reasons: overheating, a failing battery, faulty hardware, or software issues. Here are steps you can take to troubleshoot:\\n\\n1. **Check for Overheating:** Ensure that the laptop vents are not blocked and that it is not overheating. Clean any dust from the fans and vents.\\n\\n2. **Battery Health:** Check the battery health status in your system settings and consider performing a battery calibration. If the battery is old or damaged, it might need replacement.\\n\\n3. **Hardware Diagnostics:** Run hardware diagnostics, which is sometimes available in the BIOS or through system tools provided by the laptop manufacturer.\\n\\n4. **Software Check:** Make sure your operating system is up to date and check for any recent software installations that might be causing instability.\\n\\n5. **Event Viewer:** Check the Event Viewer on your laptop for any critical errors reported before the shutdowns occur.\\n\\nIf the issue persists after these checks, it might be advisable to consult a technician.'}],\n",
       " 'query_count': 2,\n",
       " 'solution_count': 1,\n",
       " 'last_query': 'My laptop keeps shutting down randomly. Can you help?',\n",
       " 'query_type': 'technical',\n",
       " 'last_solution': 'If your laptop keeps shutting down randomly, it could be due to several reasons: overheating, a failing battery, faulty hardware, or software issues. Here are steps you can take to troubleshoot:\\n\\n1. **Check for Overheating:** Ensure that the laptop vents are not blocked and that it is not overheating. Clean any dust from the fans and vents.\\n\\n2. **Battery Health:** Check the battery health status in your system settings and consider performing a battery calibration. If the battery is old or damaged, it might need replacement.\\n\\n3. **Hardware Diagnostics:** Run hardware diagnostics, which is sometimes available in the BIOS or through system tools provided by the laptop manufacturer.\\n\\n4. **Software Check:** Make sure your operating system is up to date and check for any recent software installations that might be causing instability.\\n\\n5. **Event Viewer:** Check the Event Viewer on your laptop for any critical errors reported before the shutdowns occur.\\n\\nIf the issue persists after these checks, it might be advisable to consult a technician.'}"
      ]
     },
     "execution_count": 12,
     "metadata": {},
     "output_type": "execute_result"
    }
   ],
   "source": [
    "support_context.to_dict()"
   ]
  },
  {
   "cell_type": "code",
   "execution_count": null,
   "id": "745a2951-db81-44de-8eb3-932823991d29",
   "metadata": {},
   "outputs": [],
   "source": []
  }
 ],
 "metadata": {
  "kernelspec": {
   "display_name": "Python 3 (ipykernel)",
   "language": "python",
   "name": "python3"
  },
  "language_info": {
   "codemirror_mode": {
    "name": "ipython",
    "version": 3
   },
   "file_extension": ".py",
   "mimetype": "text/x-python",
   "name": "python",
   "nbconvert_exporter": "python",
   "pygments_lexer": "ipython3",
   "version": "3.10.0"
  }
 },
 "nbformat": 4,
 "nbformat_minor": 5
}
