{
 "cells": [
  {
   "cell_type": "markdown",
   "id": "c12fd009-464b-4c5a-b71b-daba40e75206",
   "metadata": {},
   "source": [
    "# LLM agent Hackathon \n",
    "## Alireza Ghafarollahi, MIT"
   ]
  },
  {
   "cell_type": "markdown",
   "id": "a645493f-a6ab-4184-afe9-a17db1757808",
   "metadata": {},
   "source": [
    "# AG2: Building LLM-powered multi-agent systems"
   ]
  },
  {
   "cell_type": "code",
   "execution_count": null,
   "id": "c3d8b2cd-9fce-42dc-ada7-55795cf7b25b",
   "metadata": {},
   "outputs": [],
   "source": [
    "!pip install ag2\n",
    "!pip install openai"
   ]
  },
  {
   "cell_type": "code",
   "execution_count": 19,
   "id": "75eb2ea6-4962-4f05-b838-2f2ad0269ce1",
   "metadata": {},
   "outputs": [],
   "source": [
    "import json\n",
    "import os\n",
    "\n",
    "with open('config.json') as f:\n",
    "    config = json.load(f)\n",
    "\n",
    "OPENAI_API_KEY = config[\"api_key\"]\n",
    "os.environ[\"OPENAI_API_KEY\"] = OPENAI_API_KEY"
   ]
  },
  {
   "cell_type": "code",
   "execution_count": 20,
   "id": "92c60635-5ea6-4014-b4b2-e654a519af6d",
   "metadata": {},
   "outputs": [
    {
     "data": {
      "text/plain": [
       "'0.9.1post0'"
      ]
     },
     "execution_count": 20,
     "metadata": {},
     "output_type": "execute_result"
    }
   ],
   "source": [
    "import autogen\n",
    "autogen.__version__"
   ]
  },
  {
   "cell_type": "markdown",
   "id": "0fd9ca35-fee1-48eb-95e8-c0285d2349be",
   "metadata": {},
   "source": [
    "# Example: Group chat for an online shopping problem\n",
    "\n",
    "## Let's add a human customer\n",
    "\n",
    "- ## Product Finder\n",
    "\n",
    "- ## Purchase Advisor\n",
    "\n",
    "- ## Checkout Assistant\n",
    "\n",
    "- ## Customer (human)"
   ]
  },
  {
   "cell_type": "markdown",
   "id": "7a16f75e-c13f-4c91-93bd-7bd02665b1c7",
   "metadata": {},
   "source": [
    "## Creating the Necessary Agents"
   ]
  },
  {
   "cell_type": "code",
   "execution_count": 15,
   "id": "457603e1-1260-40a4-a601-6b4308e9a630",
   "metadata": {},
   "outputs": [],
   "source": [
    "from autogen import ConversableAgent, LLMConfig\n",
    "from autogen.agentchat import initiate_group_chat\n",
    "from autogen.agentchat.group.patterns import AutoPattern\n",
    "\n",
    "llm_config = LLMConfig(api_type=\"openai\", model=\"gpt-4o-mini\")\n",
    "\n",
    "# Product finder agent\n",
    "finder_message = \"\"\"You are a smart product finder agent.\n",
    "Given a general need or interest, suggest a suitable product someone might want to buy online. Mention the product name and a one-line reason why it's a good fit.\n",
    "\"\"\"\n",
    "\n",
    "# Purchase advisor agent\n",
    "advisor_message = \"\"\"You are a purchase advisor agent.\n",
    "Given a product name, generate pros and cons, price estimate, and suggest one alternative product with reasoning.\n",
    "\"\"\"\n",
    "\n",
    "# Checkout assistant agent\n",
    "checkout_message = \"\"\"You are a checkout assistant agent.\n",
    "Given a chosen product, provide a brief checkout summary including product, estimated price, shipping method, and a friendly thank-you message.\n",
    "\"\"\"\n",
    "\n",
    "# Customer initiates the shopping process\n",
    "customer_message = \"\"\"You are an online shopper.\n",
    "You describe your needs, review purchase advice (with one round of follow-up), and then confirm a product to buy.\n",
    "\"\"\"\n",
    "\n",
    "with llm_config:\n",
    "    product_finder = ConversableAgent(\n",
    "        name=\"finder_agent\",\n",
    "        system_message=finder_message,\n",
    "        description=\"Call this agent if you want to find new products.\"\n",
    "    )\n",
    "\n",
    "    purchase_advisor = ConversableAgent(\n",
    "        name=\"advisor_agent\",\n",
    "        system_message=advisor_message,\n",
    "        description=\"Call this agent if you need advice or seek more information about a product.\"\n",
    "    )\n",
    "\n",
    "    checkout_assistant = ConversableAgent(\n",
    "        name=\"checkout_agent\",\n",
    "        system_message=checkout_message,\n",
    "        description=\"Call this agent for a brief checkout summary including product, price, shipping methods.\"\n",
    "    )\n",
    "\n",
    "customer = ConversableAgent(\n",
    "    name=\"customer_agent\",\n",
    "    system_message=customer_message,\n",
    "    llm_config=False,\n",
    "    human_input_mode='ALWAYS'\n",
    ")\n"
   ]
  },
  {
   "cell_type": "markdown",
   "id": "b47046fb-5403-414d-bd89-01d8fdf9e49b",
   "metadata": {},
   "source": [
    "# Create the pattern"
   ]
  },
  {
   "cell_type": "code",
   "execution_count": 16,
   "id": "cbd0940b-1107-4893-a294-b49d286807b9",
   "metadata": {},
   "outputs": [],
   "source": [
    "pattern = AutoPattern(\n",
    "    initial_agent=product_finder,         # Start with the customer\n",
    "    agents=[product_finder, purchase_advisor, checkout_assistant],           # All agents in the group chat\n",
    "    user_agent=customer,                            # Provide our human-in-the-loop agent\n",
    "    group_manager_args={\"llm_config\": llm_config}  # Config for group manager\n",
    ")"
   ]
  },
  {
   "cell_type": "markdown",
   "id": "796e2150-b47c-47b3-b9b3-99e536771df5",
   "metadata": {},
   "source": [
    "# Initialize the group chat"
   ]
  },
  {
   "cell_type": "code",
   "execution_count": 18,
   "id": "6c5d43ba-15eb-43e9-97d2-4952beb292fc",
   "metadata": {},
   "outputs": [
    {
     "name": "stdout",
     "output_type": "stream",
     "text": [
      "customer_agent (to chat_manager):\n",
      "\n",
      "I'm looking for a Laptop suitable for training deep learning models.\n",
      "\n",
      "--------------------------------------------------------------------------------\n",
      "\n",
      "Next speaker: finder_agent\n",
      "\n",
      "\n",
      ">>>>>>>> USING AUTO REPLY...\n",
      "finder_agent (to chat_manager):\n",
      "\n",
      "I recommend the **ASUS ROG Zephyrus G15**. It features powerful NVIDIA GeForce RTX 3060 or 3070 graphics and a high-performance AMD Ryzen processor, making it an excellent choice for deep learning tasks.\n",
      "\n",
      "--------------------------------------------------------------------------------\n",
      "\n",
      "Next speaker: advisor_agent\n",
      "\n",
      "\n",
      ">>>>>>>> USING AUTO REPLY...\n",
      "advisor_agent (to chat_manager):\n",
      "\n",
      "**ASUS ROG Zephyrus G15**\n",
      "\n",
      "**Pros:**\n",
      "\n",
      "1. **Powerful Graphics:** Equipped with NVIDIA GeForce RTX 3060 or 3070, which supports CUDA cores essential for deep learning applications.\n",
      "2. **High-Performance Processor:** Features AMD Ryzen 7 or 9 options, providing excellent multi-threading performance for training models.\n",
      "3. **High Refresh Rate Display:** Comes with a 144Hz or higher AMOLED display, beneficial for machine learning visualization.\n",
      "4. **Portable:** Lightweight and slim design makes it easy to carry, which is great for on-the-go data science work.\n",
      "5. **Good Cooling System:** Efficient cooling technology to prevent thermal throttling during extensive computations.\n",
      "\n",
      "**Cons:**\n",
      "\n",
      "1. **Price Point:** Can be relatively expensive, especially with higher configuration options.\n",
      "2. **Battery Life:** Performance laptops traditionally have shorter battery life; this may also require a power source when doing intensive tasks.\n",
      "3. **Limited Upgradeability:** Many components are soldered, meaning future upgrades might be limited.\n",
      "\n",
      "**Price Estimate:**\n",
      "The ASUS ROG Zephyrus G15 generally retails between **$1,500 to $2,200**, depending on specific configurations and sales.\n",
      "\n",
      "**Alternative Product Suggestion:**\n",
      "**Razer Blade 15 Advanced**\n",
      "\n",
      "**Reasoning:** The Razer Blade 15 Advanced is also a strong candidate for deep learning tasks. It features comparable high-end NVIDIA RTX graphics and a powerful Intel processor, a sleek design for portability, and a solid build quality. It also typically offers a high refresh rate display beneficial for data visualization. This laptop may have better customer support and services compared to ASUS, which is an important consideration for users who may require assistance or warranty on high-value tech products. \n",
      "\n",
      "**Price Estimate:** The Razer Blade 15 Advanced usually falls in a similar price range of **$2,000 to $2,800** based on configurations.\n",
      "\n",
      "--------------------------------------------------------------------------------\n",
      "\n",
      "Next speaker: customer_agent\n",
      "\n"
     ]
    },
    {
     "name": "stdin",
     "output_type": "stream",
     "text": [
      "Replying as customer_agent. Provide feedback to chat_manager. Press enter to skip and use auto-reply, or type 'exit' to end the conversation:  Can you suggest another one from Dell brand.\n"
     ]
    },
    {
     "name": "stdout",
     "output_type": "stream",
     "text": [
      "customer_agent (to chat_manager):\n",
      "\n",
      "Can you suggest another one from Dell brand.\n",
      "\n",
      "--------------------------------------------------------------------------------\n",
      "\n",
      "Next speaker: advisor_agent\n",
      "\n",
      "\n",
      ">>>>>>>> USING AUTO REPLY...\n",
      "advisor_agent (to chat_manager):\n",
      "\n",
      "**Dell XPS 15**\n",
      "\n",
      "**Pros:**\n",
      "\n",
      "1. **High-Performance Specs:** Available with up to NVIDIA GeForce RTX 3050 or 3060 graphics, which can handle deep learning tasks.\n",
      "2. **Powerful CPU Options:** Features Intel Core i7 or i9 processors, providing excellent computational power for model training.\n",
      "3. **Stunning Display:** Options for a 4K OLED screen that offers vibrant colors, great for data visualization and presentations.\n",
      "4. **Solid Build Quality:** Premium design with a sturdy chassis, making it durable for everyday use.\n",
      "5. **Good Battery Life:** Typically better battery optimization compared to gaming laptops, which can be a plus for mobile use.\n",
      "\n",
      "**Cons:**\n",
      "\n",
      "1. **Performance vs. Gaming Laptops:** While it has decent specs, it may not perform as well as dedicated gaming laptops with higher-end graphics options.\n",
      "2. **Price Range:** The Dell XPS 15 can be on the pricier side, particularly for the high-end models.\n",
      "3. **Limited Graphics Upgradeability:** Similar to many laptops, it has limited options for upgrading the GPU.\n",
      "\n",
      "**Price Estimate:**\n",
      "The Dell XPS 15 generally retails between **$1,600 to $2,500**, depending on specific configurations.\n",
      "\n",
      "**Reasoning for Suggestion:**\n",
      "The Dell XPS 15 is an excellent choice if you're looking for a balance between performance and portability without sacrificing build quality and design aesthetics. Its display is particularly impressive for data visualization, which is essential for deep learning tasks. Furthermore, Dell's customer service is known for being effective, which can be a significant advantage when dealing with high-value equipment.\n",
      "\n",
      "--------------------------------------------------------------------------------\n",
      "\n",
      "Next speaker: customer_agent\n",
      "\n"
     ]
    },
    {
     "name": "stdin",
     "output_type": "stream",
     "text": [
      "Replying as customer_agent. Provide feedback to chat_manager. Press enter to skip and use auto-reply, or type 'exit' to end the conversation:  looks good. I'll take this one\n"
     ]
    },
    {
     "name": "stdout",
     "output_type": "stream",
     "text": [
      "customer_agent (to chat_manager):\n",
      "\n",
      "looks good. I'll take this one\n",
      "\n",
      "--------------------------------------------------------------------------------\n",
      "\n",
      "Next speaker: advisor_agent\n",
      "\n",
      "\n",
      ">>>>>>>> USING AUTO REPLY...\n",
      "advisor_agent (to chat_manager):\n",
      "\n",
      "Great choice! The **Dell XPS 15** is a powerful and versatile laptop that should serve you well for training deep learning models and other tasks. Make sure to check for the specific configuration that fits your needs best—especially with respect to the GPU and CPU options.\n",
      "\n",
      "If you have any other questions, need further assistance, or additional recommendations in the future, feel free to ask. Happy purchasing!\n",
      "\n",
      "--------------------------------------------------------------------------------\n",
      "\n",
      "Next speaker: checkout_agent\n",
      "\n",
      "\n",
      ">>>>>>>> USING AUTO REPLY...\n",
      "checkout_agent (to chat_manager):\n",
      "\n",
      "### Checkout Summary\n",
      "\n",
      "**Product:** Dell XPS 15  \n",
      "**Estimated Price:** $1,600 - $2,500 (depending on configuration)  \n",
      "**Shipping Method:** Standard shipping (estimated delivery in 3-5 business days)\n",
      "\n",
      "Thank you for your purchase! We appreciate your business and hope the Dell XPS 15 exceeds your expectations. If you need any further assistance or have questions, don’t hesitate to reach out. Happy computing!\n",
      "\n",
      "--------------------------------------------------------------------------------\n",
      "\n",
      "Next speaker: checkout_agent\n",
      "\n",
      "\n",
      ">>>>>>>> USING AUTO REPLY...\n",
      "checkout_agent (to chat_manager):\n",
      "\n",
      "### Checkout Summary\n",
      "\n",
      "**Product:** Dell XPS 15  \n",
      "**Estimated Price:** $1,600 - $2,500 (depending on configuration)  \n",
      "**Shipping Method:** Standard shipping (estimated delivery in 3-5 business days)\n",
      "\n",
      "Thank you for your purchase! We appreciate your business and hope the Dell XPS 15 serves you well for all your deep learning tasks. If you have any questions or need further assistance, feel free to reach out. Happy computing!\n",
      "\n",
      "--------------------------------------------------------------------------------\n",
      "\n",
      "Next speaker: checkout_agent\n",
      "\n",
      "\n",
      ">>>>>>>> USING AUTO REPLY...\n",
      "checkout_agent (to chat_manager):\n",
      "\n",
      "### Checkout Summary\n",
      "\n",
      "**Product:** Dell XPS 15  \n",
      "**Estimated Price:** $1,600 - $2,500 (depending on configuration)  \n",
      "**Shipping Method:** Standard shipping (estimated delivery in 3-5 business days)\n",
      "\n",
      "Thank you for your purchase! We appreciate your business and hope the Dell XPS 15 serves you well for all your deep learning tasks. If you have any questions or need further assistance, feel free to reach out. Happy computing!\n",
      "\n",
      "--------------------------------------------------------------------------------\n",
      "\n",
      "Next speaker: checkout_agent\n",
      "\n",
      "\n",
      ">>>>>>>> USING AUTO REPLY...\n",
      "checkout_agent (to chat_manager):\n",
      "\n",
      "### Checkout Summary\n",
      "\n",
      "**Product:** Dell XPS 15  \n",
      "**Estimated Price:** $1,600 - $2,500 (depending on configuration)  \n",
      "**Shipping Method:** Standard shipping (estimated delivery in 3-5 business days)\n",
      "\n",
      "Thank you for your purchase! We appreciate your business and hope the Dell XPS 15 serves you well for all your deep learning tasks. If you have any questions or need further assistance, feel free to reach out. Happy computing!\n",
      "\n",
      "--------------------------------------------------------------------------------\n",
      "\n",
      "Next speaker: customer_agent\n",
      "\n"
     ]
    },
    {
     "name": "stdin",
     "output_type": "stream",
     "text": [
      "Replying as customer_agent. Provide feedback to chat_manager. Press enter to skip and use auto-reply, or type 'exit' to end the conversation:  exit\n"
     ]
    },
    {
     "name": "stdout",
     "output_type": "stream",
     "text": [
      "\n",
      ">>>>>>>> TERMINATING RUN (7ffe8c49-8d6b-4bab-a556-b0b14c16912f): User requested to end the conversation\n",
      "\n",
      ">>>>>>>> TERMINATING RUN (eb68443d-5cdb-464e-9b6a-c40426606273): No reply generated\n"
     ]
    }
   ],
   "source": [
    "initial_prompt = \"\"\"I'm looking for a Laptop suitable for training deep learning models.\"\"\"\n",
    "\n",
    "result, context_variables, last_agent = initiate_group_chat(\n",
    "    pattern=pattern,\n",
    "    messages=initial_prompt,                     # Initial request with transactions\n",
    ")"
   ]
  },
  {
   "cell_type": "code",
   "execution_count": null,
   "id": "80ed3bec-1c01-4b21-916d-b581524cf2ae",
   "metadata": {},
   "outputs": [],
   "source": []
  }
 ],
 "metadata": {
  "kernelspec": {
   "display_name": "Python 3 (ipykernel)",
   "language": "python",
   "name": "python3"
  },
  "language_info": {
   "codemirror_mode": {
    "name": "ipython",
    "version": 3
   },
   "file_extension": ".py",
   "mimetype": "text/x-python",
   "name": "python",
   "nbconvert_exporter": "python",
   "pygments_lexer": "ipython3",
   "version": "3.10.0"
  }
 },
 "nbformat": 4,
 "nbformat_minor": 5
}
