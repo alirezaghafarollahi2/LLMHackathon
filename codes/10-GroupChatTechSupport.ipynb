{
 "cells": [
  {
   "cell_type": "markdown",
   "id": "c12fd009-464b-4c5a-b71b-daba40e75206",
   "metadata": {},
   "source": [
    "# LLM agent Hackathon \n",
    "## Alireza Ghafarollahi, MIT"
   ]
  },
  {
   "cell_type": "markdown",
   "id": "a645493f-a6ab-4184-afe9-a17db1757808",
   "metadata": {},
   "source": [
    "# AG2: Building LLM-powered multi-agent systems"
   ]
  },
  {
   "cell_type": "code",
   "execution_count": null,
   "id": "c3d8b2cd-9fce-42dc-ada7-55795cf7b25b",
   "metadata": {},
   "outputs": [],
   "source": [
    "!pip install ag2\n",
    "!pip install openai"
   ]
  },
  {
   "cell_type": "code",
   "execution_count": 1,
   "id": "75eb2ea6-4962-4f05-b838-2f2ad0269ce1",
   "metadata": {},
   "outputs": [],
   "source": [
    "import json\n",
    "import os\n",
    "\n",
    "with open('config.json') as f:\n",
    "    config = json.load(f)\n",
    "\n",
    "OPENAI_API_KEY = config[\"api_key\"]\n",
    "os.environ[\"OPENAI_API_KEY\"] = OPENAI_API_KEY"
   ]
  },
  {
   "cell_type": "markdown",
   "id": "4a5e0e4f-6c45-49b7-b35d-7aaa6a482708",
   "metadata": {},
   "source": [
    "# Example: Group chat to assist the user with a tech-related query\n",
    "\n",
    "## Agents\n",
    "\n",
    "- ## coordinator agent\n",
    "\n",
    "- ## technical support agent\n",
    "\n",
    "- ## general support agent"
   ]
  },
  {
   "cell_type": "code",
   "execution_count": 13,
   "id": "801d28a4-7c7a-4a8a-8f11-c59758b56c14",
   "metadata": {},
   "outputs": [],
   "source": [
    "from autogen import ConversableAgent, LLMConfig\n",
    "from autogen.agentchat import initiate_group_chat\n",
    "from autogen.agentchat.group.patterns import AutoPattern\n",
    "\n",
    "llm_config = LLMConfig(api_type=\"openai\", model=\"gpt-4o-mini\")"
   ]
  },
  {
   "cell_type": "markdown",
   "id": "291cb315-d584-438b-b3e8-80cc86159896",
   "metadata": {},
   "source": [
    "# Create specialized agents"
   ]
  },
  {
   "cell_type": "code",
   "execution_count": 14,
   "id": "f12ca23d-8251-48b7-99ca-51515922a863",
   "metadata": {},
   "outputs": [],
   "source": [
    "with llm_config:\n",
    "    coordinator_agent = ConversableAgent(\n",
    "        name=\"coordinator_agent\",\n",
    "        system_message=\"\"\"You are a coordinator agent. For each user query,\n",
    "        identify whether it is a technical issue or a general question. Route\n",
    "        technical issues to the tech agent and general questions to the general agent.\n",
    "        Do not provide suggestions or answers, only route the query.\"\"\"\n",
    "    )\n",
    "\n",
    "    tech_agent = ConversableAgent(\n",
    "        name=\"tech_agent\",\n",
    "        system_message=\"\"\"You solve technical problems like software bugs\n",
    "        and hardware issues.\"\"\"\n",
    "    )\n",
    "\n",
    "    general_agent = ConversableAgent(\n",
    "        name=\"general_agent\",\n",
    "        system_message=\"You handle general, non-technical support questions.\"\n",
    "    )\n",
    "\n"
   ]
  },
  {
   "cell_type": "markdown",
   "id": "2e33f0fa-a032-43f1-8cb6-c713034b97bb",
   "metadata": {},
   "source": [
    "# Create a User Agent "
   ]
  },
  {
   "cell_type": "code",
   "execution_count": 15,
   "id": "63a42094-8517-42db-94e7-fe2a087a8bef",
   "metadata": {},
   "outputs": [],
   "source": [
    "user = ConversableAgent(name=\"user\", human_input_mode=\"ALWAYS\")"
   ]
  },
  {
   "cell_type": "markdown",
   "id": "198c2c5b-78c1-491e-b79d-5e2495502811",
   "metadata": {},
   "source": [
    "# Define the Conversation Pattern"
   ]
  },
  {
   "cell_type": "code",
   "execution_count": 17,
   "id": "35ccdce9-19b9-42e5-a235-0e828562bab7",
   "metadata": {},
   "outputs": [],
   "source": [
    "pattern = AutoPattern(\n",
    "    initial_agent=coordinator_agent,  # Agent that starts the conversation\n",
    "    agents=[coordinator_agent, tech_agent, general_agent],\n",
    "    user_agent=user,\n",
    "    group_manager_args={\"llm_config\": llm_config}\n",
    ")"
   ]
  },
  {
   "cell_type": "markdown",
   "id": "8dbec8e5-fdd0-44f5-92ef-31d3f4468e13",
   "metadata": {},
   "source": [
    "# Start the group chat"
   ]
  },
  {
   "cell_type": "code",
   "execution_count": 19,
   "id": "b6623d47-65c3-47a0-9156-e0a5b61241e8",
   "metadata": {},
   "outputs": [
    {
     "name": "stdout",
     "output_type": "stream",
     "text": [
      "user (to chat_manager):\n",
      "\n",
      "My laptop keeps shutting down randomly. Can you help?\n",
      "\n",
      "--------------------------------------------------------------------------------\n",
      "\n",
      "Next speaker: coordinator_agent\n",
      "\n",
      "\n",
      ">>>>>>>> USING AUTO REPLY...\n"
     ]
    },
    {
     "name": "stderr",
     "output_type": "stream",
     "text": [
      "INFO:httpx:HTTP Request: POST https://api.openai.com/v1/chat/completions \"HTTP/1.1 200 OK\"\n"
     ]
    },
    {
     "name": "stdout",
     "output_type": "stream",
     "text": [
      "coordinator_agent (to chat_manager):\n",
      "\n",
      "Routing to tech agent.\n",
      "\n",
      "--------------------------------------------------------------------------------\n"
     ]
    },
    {
     "name": "stderr",
     "output_type": "stream",
     "text": [
      "INFO:httpx:HTTP Request: POST https://api.openai.com/v1/chat/completions \"HTTP/1.1 200 OK\"\n"
     ]
    },
    {
     "name": "stdout",
     "output_type": "stream",
     "text": [
      "\n",
      "Next speaker: tech_agent\n",
      "\n",
      "\n",
      ">>>>>>>> USING AUTO REPLY...\n"
     ]
    },
    {
     "name": "stderr",
     "output_type": "stream",
     "text": [
      "INFO:httpx:HTTP Request: POST https://api.openai.com/v1/chat/completions \"HTTP/1.1 200 OK\"\n"
     ]
    },
    {
     "name": "stdout",
     "output_type": "stream",
     "text": [
      "tech_agent (to chat_manager):\n",
      "\n",
      "Sure! Random shutdowns can be caused by a variety of issues. Here are some troubleshooting steps you can try:\n",
      "\n",
      "1. **Check for Overheating:**\n",
      "   - Ensure that the laptop is properly ventilated. Make sure the vents are not blocked by dust or debris.\n",
      "   - Use a cooling pad if necessary.\n",
      "   - Check the temperature using software like HWMonitor or CoreTemp to see if the CPU or GPU is overheating.\n",
      "\n",
      "2. **Check Battery Health:**\n",
      "   - If your laptop is running on battery, check the battery health. A failing battery can cause random shutdowns.\n",
      "   - If possible, run the laptop with the charger connected to see if it still shuts down.\n",
      "\n",
      "3. **Inspect Power Supply:**\n",
      "   - Check the power adapter and charging port. Make sure the charger is functioning properly and providing adequate power.\n",
      "\n",
      "4. **Run Hardware Diagnostics:**\n",
      "   - Many laptops have built-in diagnostics tools. You can initiate these usually by pressing a certain key (like F2 or F12) during startup.\n",
      "   - Look for signs of hardware failure, especially in the RAM and hard drive.\n",
      "\n",
      "5. **Check for Software Issues:**\n",
      "   - Look for any software conflicts or if any applications are causing the system to crash.\n",
      "   - Try booting in Safe Mode to see if the problem persists.\n",
      "   - Ensure that your operating system and drivers are up to date.\n",
      "\n",
      "6. **Look for Event Viewer Logs:**\n",
      "   - On Windows, you can check the Event Viewer for any critical error messages recorded around the time of the shutdown. This may give you a clue about what’s happening.\n",
      "\n",
      "7. **Malware Scan:**\n",
      "   - Run a full system scan with a reliable antivirus program to ensure there’s no malware causing the issue.\n",
      "\n",
      "8. **Reset/Refresh Windows:**\n",
      "   - If none of the above works, consider refreshing or reinstalling the operating system, which can resolve any system-level issues causing crashes.\n",
      "\n",
      "### If the Problem Persists:\n",
      "If after trying these steps your laptop continues to shut down randomly, it might be a hardware issue requiring professional repair. In that case, consider contacting the manufacturer or a certified technician.\n",
      "\n",
      "Let me know if you need further assistance with any of these steps!\n",
      "\n",
      "--------------------------------------------------------------------------------\n"
     ]
    },
    {
     "name": "stderr",
     "output_type": "stream",
     "text": [
      "INFO:httpx:HTTP Request: POST https://api.openai.com/v1/chat/completions \"HTTP/1.1 200 OK\"\n"
     ]
    },
    {
     "name": "stdout",
     "output_type": "stream",
     "text": [
      "\n",
      "Next speaker: user\n",
      "\n"
     ]
    },
    {
     "name": "stdin",
     "output_type": "stream",
     "text": [
      "Replying as user. Provide feedback to chat_manager. Press enter to skip and use auto-reply, or type 'exit' to end the conversation:  thank you\n"
     ]
    },
    {
     "name": "stdout",
     "output_type": "stream",
     "text": [
      "user (to chat_manager):\n",
      "\n",
      "thank you\n",
      "\n",
      "--------------------------------------------------------------------------------\n",
      "\n",
      "Next speaker: tech_agent\n",
      "\n",
      "\n",
      ">>>>>>>> USING AUTO REPLY...\n"
     ]
    },
    {
     "name": "stderr",
     "output_type": "stream",
     "text": [
      "INFO:httpx:HTTP Request: POST https://api.openai.com/v1/chat/completions \"HTTP/1.1 200 OK\"\n"
     ]
    },
    {
     "name": "stdout",
     "output_type": "stream",
     "text": [
      "tech_agent (to chat_manager):\n",
      "\n",
      "You're welcome! If you have any more questions or need further assistance in the future, feel free to ask. Good luck with your laptop!\n",
      "\n",
      "--------------------------------------------------------------------------------\n"
     ]
    },
    {
     "name": "stderr",
     "output_type": "stream",
     "text": [
      "INFO:httpx:HTTP Request: POST https://api.openai.com/v1/chat/completions \"HTTP/1.1 200 OK\"\n"
     ]
    },
    {
     "name": "stdout",
     "output_type": "stream",
     "text": [
      "\n",
      "Next speaker: user\n",
      "\n"
     ]
    },
    {
     "name": "stdin",
     "output_type": "stream",
     "text": [
      "Replying as user. Provide feedback to chat_manager. Press enter to skip and use auto-reply, or type 'exit' to end the conversation:  exit\n"
     ]
    },
    {
     "name": "stdout",
     "output_type": "stream",
     "text": [
      "\n",
      ">>>>>>>> TERMINATING RUN (5d760125-90f3-4e75-9d81-9c97cb3eacf1): User requested to end the conversation\n",
      "\n",
      ">>>>>>>> TERMINATING RUN (2f57ea31-eb31-4ae2-a986-4c04236ae6c9): No reply generated\n"
     ]
    }
   ],
   "source": [
    "initial_prompt = \"\"\"My laptop keeps shutting down randomly. Can you help?\"\"\"\n",
    "\n",
    "result, context_variables, last_agent = initiate_group_chat(\n",
    "    pattern=pattern,\n",
    "    messages=initial_prompt,\n",
    "    max_rounds=10\n",
    ")"
   ]
  },
  {
   "cell_type": "code",
   "execution_count": null,
   "id": "5498bdaa-91d6-4468-a59e-72178d623ac7",
   "metadata": {},
   "outputs": [],
   "source": []
  }
 ],
 "metadata": {
  "kernelspec": {
   "display_name": "Python 3 (ipykernel)",
   "language": "python",
   "name": "python3"
  },
  "language_info": {
   "codemirror_mode": {
    "name": "ipython",
    "version": 3
   },
   "file_extension": ".py",
   "mimetype": "text/x-python",
   "name": "python",
   "nbconvert_exporter": "python",
   "pygments_lexer": "ipython3",
   "version": "3.10.0"
  }
 },
 "nbformat": 4,
 "nbformat_minor": 5
}
