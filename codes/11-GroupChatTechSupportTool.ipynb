{
 "cells": [
  {
   "cell_type": "markdown",
   "id": "c12fd009-464b-4c5a-b71b-daba40e75206",
   "metadata": {},
   "source": [
    "# LLM agent Hackathon \n",
    "## Alireza Ghafarollahi, MIT"
   ]
  },
  {
   "cell_type": "markdown",
   "id": "a645493f-a6ab-4184-afe9-a17db1757808",
   "metadata": {},
   "source": [
    "# AG2: Building LLM-powered multi-agent systems"
   ]
  },
  {
   "cell_type": "code",
   "execution_count": null,
   "id": "c3d8b2cd-9fce-42dc-ada7-55795cf7b25b",
   "metadata": {},
   "outputs": [],
   "source": [
    "!pip install ag2\n",
    "!pip install openai"
   ]
  },
  {
   "cell_type": "code",
   "execution_count": 7,
   "id": "75eb2ea6-4962-4f05-b838-2f2ad0269ce1",
   "metadata": {},
   "outputs": [],
   "source": [
    "import json\n",
    "import os\n",
    "\n",
    "with open('config.json') as f:\n",
    "    config = json.load(f)\n",
    "\n",
    "OPENAI_API_KEY = config[\"api_key\"]\n",
    "os.environ[\"OPENAI_API_KEY\"] = OPENAI_API_KEY"
   ]
  },
  {
   "cell_type": "markdown",
   "id": "4a5e0e4f-6c45-49b7-b35d-7aaa6a482708",
   "metadata": {},
   "source": [
    "# Example: Group chat to assist the user with a tech-related query\n",
    "\n",
    "## Agents\n",
    "\n",
    "- ## coordinator agent\n",
    "\n",
    "- ## technical support agent\n",
    "\n",
    "- ## general support agent\n",
    "\n",
    "## Enhance our system with tools\n",
    "\n",
    "- ## classify_query"
   ]
  },
  {
   "cell_type": "code",
   "execution_count": 8,
   "id": "801d28a4-7c7a-4a8a-8f11-c59758b56c14",
   "metadata": {},
   "outputs": [],
   "source": [
    "from autogen import ConversableAgent, LLMConfig\n",
    "from autogen.agentchat import initiate_group_chat\n",
    "from autogen.agentchat.group.patterns import AutoPattern"
   ]
  },
  {
   "cell_type": "markdown",
   "id": "9ff6ce5d-2380-4eb0-b345-86c7c13d737b",
   "metadata": {},
   "source": [
    "# Create Tool"
   ]
  },
  {
   "cell_type": "code",
   "execution_count": 14,
   "id": "86a70a7a-c4a7-471e-b50e-c66a1cc59f83",
   "metadata": {},
   "outputs": [],
   "source": [
    "from typing import Annotated\n",
    "from autogen.agentchat.group import ReplyResult, AgentNameTarget\n",
    "\n",
    "def classify_query(\n",
    "    query: Annotated[str, \"The user query to classify\"],\n",
    ") -> ReplyResult:\n",
    "    \"\"\"\n",
    "    Classify a user query as technical or general.\n",
    "\n",
    "    Technical queries involve hardware problems, software errors, system crashes, etc.\n",
    "    General queries involve information requests, conceptual questions, etc.\n",
    "    \"\"\"\n",
    "    # Simple keyword-based classification\n",
    "    technical_keywords = [\"error\", \"bug\", \"broken\", \"crash\", \"not working\", \"shutting down\"]\n",
    "\n",
    "    # Check if any technical keywords are in the query\n",
    "    if any(keyword in query.lower() for keyword in technical_keywords):\n",
    "        return ReplyResult(\n",
    "            message=\"This appears to be a technical issue.\",\n",
    "            target=AgentNameTarget(\"tech_agent\")  # Route to technical support\n",
    "        )\n",
    "    else:\n",
    "        return ReplyResult(\n",
    "            message=\"This appears to be a general question.\",\n",
    "            target=AgentNameTarget(\"general_agent\")  # Route to general support\n",
    "        )"
   ]
  },
  {
   "cell_type": "markdown",
   "id": "291cb315-d584-438b-b3e8-80cc86159896",
   "metadata": {},
   "source": [
    "# Create specialized agents and assign tool(s)"
   ]
  },
  {
   "cell_type": "code",
   "execution_count": 15,
   "id": "f12ca23d-8251-48b7-99ca-51515922a863",
   "metadata": {},
   "outputs": [],
   "source": [
    "llm_config = LLMConfig(api_type=\"openai\", model=\"gpt-4o-mini\")\n",
    "\n",
    "with llm_config:\n",
    "    coordinator_agent = ConversableAgent(\n",
    "        name=\"coordinator_agent\",\n",
    "        system_message=\"\"\"You are a coordinator agent. For each user query,\n",
    "        identify whether it is a technical issue or a general question. Route\n",
    "        technical issues to the tech agent and general questions to the general agent.\n",
    "        Do not provide suggestions or answers, only route the query.\"\"\",\n",
    "        functions=[classify_query]\n",
    "    )\n",
    "\n",
    "    tech_agent = ConversableAgent(\n",
    "        name=\"tech_agent\",\n",
    "        system_message=\"\"\"You solve technical problems like software bugs\n",
    "        and hardware issues.\"\"\"\n",
    "    )\n",
    "\n",
    "    general_agent = ConversableAgent(\n",
    "        name=\"general_agent\",\n",
    "        system_message=\"You handle general, non-technical support questions.\"\n",
    "    )\n",
    "\n"
   ]
  },
  {
   "cell_type": "markdown",
   "id": "2e33f0fa-a032-43f1-8cb6-c713034b97bb",
   "metadata": {},
   "source": [
    "# Create a User Agent "
   ]
  },
  {
   "cell_type": "code",
   "execution_count": 16,
   "id": "63a42094-8517-42db-94e7-fe2a087a8bef",
   "metadata": {},
   "outputs": [],
   "source": [
    "user = ConversableAgent(name=\"user\", human_input_mode=\"ALWAYS\")"
   ]
  },
  {
   "cell_type": "markdown",
   "id": "198c2c5b-78c1-491e-b79d-5e2495502811",
   "metadata": {},
   "source": [
    "# Define the Conversation Pattern"
   ]
  },
  {
   "cell_type": "code",
   "execution_count": 17,
   "id": "35ccdce9-19b9-42e5-a235-0e828562bab7",
   "metadata": {},
   "outputs": [],
   "source": [
    "pattern = AutoPattern(\n",
    "    initial_agent=coordinator_agent,  # Agent that starts the conversation\n",
    "    agents=[coordinator_agent, tech_agent, general_agent],\n",
    "    user_agent=user,\n",
    "    group_manager_args={\"llm_config\": llm_config}\n",
    ")"
   ]
  },
  {
   "cell_type": "markdown",
   "id": "8dbec8e5-fdd0-44f5-92ef-31d3f4468e13",
   "metadata": {},
   "source": [
    "# Start the group chat"
   ]
  },
  {
   "cell_type": "code",
   "execution_count": 18,
   "id": "b6623d47-65c3-47a0-9156-e0a5b61241e8",
   "metadata": {},
   "outputs": [
    {
     "name": "stdout",
     "output_type": "stream",
     "text": [
      "user (to chat_manager):\n",
      "\n",
      "My laptop keeps shutting down randomly. Can you help?\n",
      "\n",
      "--------------------------------------------------------------------------------\n",
      "\n",
      "Next speaker: coordinator_agent\n",
      "\n",
      "\n",
      ">>>>>>>> USING AUTO REPLY...\n",
      "coordinator_agent (to chat_manager):\n",
      "\n",
      "***** Suggested tool call (call_KjKGHnI4Koei9qPlMSU7jPAZ): classify_query *****\n",
      "Arguments: \n",
      "{\"query\":\"My laptop keeps shutting down randomly. Can you help?\"}\n",
      "*******************************************************************************\n",
      "\n",
      "--------------------------------------------------------------------------------\n",
      "\n",
      "Next speaker: _Group_Tool_Executor\n",
      "\n",
      "\n",
      ">>>>>>>> EXECUTING FUNCTION classify_query...\n",
      "Call ID: call_KjKGHnI4Koei9qPlMSU7jPAZ\n",
      "Input arguments: {'query': 'My laptop keeps shutting down randomly. Can you help?'}\n",
      "_Group_Tool_Executor (to chat_manager):\n",
      "\n",
      "***** Response from calling tool (call_KjKGHnI4Koei9qPlMSU7jPAZ) *****\n",
      "This appears to be a technical issue.\n",
      "**********************************************************************\n",
      "\n",
      "--------------------------------------------------------------------------------\n",
      "\n",
      "Next speaker: tech_agent\n",
      "\n",
      "\n",
      ">>>>>>>> USING AUTO REPLY...\n",
      "tech_agent (to chat_manager):\n",
      "\n",
      "Certainly! Here are some steps you can take to troubleshoot random shutdowns on your laptop:\n",
      "\n",
      "1. **Check for Overheating**: \n",
      "   - Ensure that the vents aren't blocked and that the fans are functioning correctly. Clean any dust that may have accumulated.\n",
      "\n",
      "2. **Review Power Settings**:\n",
      "   - Check your power settings to make sure your laptop isn’t set to hibernate or shut down after a period of inactivity. You can find this in the Control Panel (Windows) or System Preferences (macOS).\n",
      "\n",
      "3. **Check Battery Health**:\n",
      "   - If you have a removable battery, try taking it out and re-seating it. You can also check the battery’s health using built-in tools (like Windows’ Battery Report or macOS’ System Information).\n",
      "\n",
      "4. **Run a Hardware Diagnostic**:\n",
      "   - Many laptops have built-in diagnostic tools that can test hardware components. Check your manufacturer’s website for instructions.\n",
      "\n",
      "5. **Update Drivers**:\n",
      "   - Ensure all device drivers, especially graphics and chipset drivers, are up to date. Go to the manufacturer's website for the latest versions.\n",
      "\n",
      "6. **Scan for Malware**:\n",
      "   - Conduct a full antivirus scan to rule out any malware that might be causing shutdowns.\n",
      "\n",
      "7. **Check Event Viewer (Windows)**:\n",
      "   - Go to Event Viewer and check the System log for any critical errors that occurred just before the shutdown. This can provide clues about the problem.\n",
      "\n",
      "8. **Inspect for Failing Hardware**:\n",
      "   - If none of the above steps help, you might have failing hardware (like RAM or the power supply). Tools like MemTest86 can help check RAM integrity.\n",
      "\n",
      "9. **Reinstall Operating System**:\n",
      "   - As a last resort, consider backing up your data and doing a clean reinstall of your operating system to eliminate software issues.\n",
      "\n",
      "If you're still experiencing issues after trying these steps, consider reaching out to a professional technician for further diagnosis. Let me know if you need detailed guidance on any of the steps above!\n",
      "\n",
      "--------------------------------------------------------------------------------\n",
      "\n",
      "Next speaker: coordinator_agent\n",
      "\n",
      "\n",
      ">>>>>>>> USING AUTO REPLY...\n",
      "coordinator_agent (to chat_manager):\n",
      "\n",
      "***** Suggested tool call (call_4tPPmPp91ZdUt3F7OgppCNow): classify_query *****\n",
      "Arguments: \n",
      "{\"query\":\"tech_agent\"}\n",
      "*******************************************************************************\n",
      "\n",
      "--------------------------------------------------------------------------------\n",
      "\n",
      "Next speaker: _Group_Tool_Executor\n",
      "\n",
      "\n",
      ">>>>>>>> EXECUTING FUNCTION classify_query...\n",
      "Call ID: call_4tPPmPp91ZdUt3F7OgppCNow\n",
      "Input arguments: {'query': 'tech_agent'}\n",
      "_Group_Tool_Executor (to chat_manager):\n",
      "\n",
      "***** Response from calling tool (call_4tPPmPp91ZdUt3F7OgppCNow) *****\n",
      "This appears to be a general question.\n",
      "**********************************************************************\n",
      "\n",
      "--------------------------------------------------------------------------------\n",
      "\n",
      "Next speaker: general_agent\n",
      "\n",
      "\n",
      ">>>>>>>> USING AUTO REPLY...\n",
      "general_agent (to chat_manager):\n",
      "\n",
      "If you're unable to resolve the issue after trying the above suggestions, it might be best to consult a professional technician. They can provide a more in-depth diagnosis and possible solutions. If you have specific questions or need further assistance, feel free to ask!\n",
      "\n",
      "--------------------------------------------------------------------------------\n",
      "\n",
      "Next speaker: user\n",
      "\n"
     ]
    },
    {
     "name": "stdin",
     "output_type": "stream",
     "text": [
      "Replying as user. Provide feedback to chat_manager. Press enter to skip and use auto-reply, or type 'exit' to end the conversation:  EXIT\n"
     ]
    },
    {
     "name": "stdout",
     "output_type": "stream",
     "text": [
      "user (to chat_manager):\n",
      "\n",
      "EXIT\n",
      "\n",
      "--------------------------------------------------------------------------------\n",
      "\n",
      "Next speaker: general_agent\n",
      "\n",
      "\n",
      ">>>>>>>> USING AUTO REPLY...\n",
      "general_agent (to chat_manager):\n",
      "\n",
      "If you need to leave, that's perfectly fine! Feel free to return if you have more questions in the future. Take care!\n",
      "\n",
      "--------------------------------------------------------------------------------\n",
      "\n",
      "Next speaker: user\n",
      "\n"
     ]
    },
    {
     "name": "stdin",
     "output_type": "stream",
     "text": [
      "Replying as user. Provide feedback to chat_manager. Press enter to skip and use auto-reply, or type 'exit' to end the conversation:  exit\n"
     ]
    },
    {
     "name": "stdout",
     "output_type": "stream",
     "text": [
      "\n",
      ">>>>>>>> TERMINATING RUN (bb49c7e8-dfb6-4201-b83a-22e2320f7b19): User requested to end the conversation\n",
      "\n",
      ">>>>>>>> TERMINATING RUN (178ab488-54bc-401d-9fde-6bb9f5647b74): No reply generated\n"
     ]
    }
   ],
   "source": [
    "initial_prompt = \"\"\"My laptop keeps shutting down randomly. Can you help?\"\"\"\n",
    "\n",
    "result, context_variables, last_agent = initiate_group_chat(\n",
    "    pattern=pattern,\n",
    "    messages=initial_prompt,\n",
    "    max_rounds=10\n",
    ")"
   ]
  },
  {
   "cell_type": "code",
   "execution_count": null,
   "id": "5498bdaa-91d6-4468-a59e-72178d623ac7",
   "metadata": {},
   "outputs": [],
   "source": []
  }
 ],
 "metadata": {
  "kernelspec": {
   "display_name": "Python 3 (ipykernel)",
   "language": "python",
   "name": "python3"
  },
  "language_info": {
   "codemirror_mode": {
    "name": "ipython",
    "version": 3
   },
   "file_extension": ".py",
   "mimetype": "text/x-python",
   "name": "python",
   "nbconvert_exporter": "python",
   "pygments_lexer": "ipython3",
   "version": "3.10.0"
  }
 },
 "nbformat": 4,
 "nbformat_minor": 5
}
