{
 "cells": [
  {
   "cell_type": "markdown",
   "id": "c12fd009-464b-4c5a-b71b-daba40e75206",
   "metadata": {},
   "source": [
    "# LLM agent Hackathon \n",
    "## Alireza Ghafarollahi, MIT"
   ]
  },
  {
   "cell_type": "markdown",
   "id": "a645493f-a6ab-4184-afe9-a17db1757808",
   "metadata": {},
   "source": [
    "# AG2: Building LLM-powered multi-agent systems"
   ]
  },
  {
   "cell_type": "code",
   "execution_count": null,
   "id": "c3d8b2cd-9fce-42dc-ada7-55795cf7b25b",
   "metadata": {},
   "outputs": [],
   "source": [
    "!pip install ag2\n",
    "!pip install openai"
   ]
  },
  {
   "cell_type": "code",
   "execution_count": 47,
   "id": "75eb2ea6-4962-4f05-b838-2f2ad0269ce1",
   "metadata": {},
   "outputs": [],
   "source": [
    "import json\n",
    "import os\n",
    "\n",
    "with open('config.json') as f:\n",
    "    config = json.load(f)\n",
    "\n",
    "OPENAI_API_KEY = config[\"api_key\"]\n",
    "os.environ[\"OPENAI_API_KEY\"] = OPENAI_API_KEY"
   ]
  },
  {
   "cell_type": "code",
   "execution_count": 48,
   "id": "92c60635-5ea6-4014-b4b2-e654a519af6d",
   "metadata": {},
   "outputs": [
    {
     "data": {
      "text/plain": [
       "'0.9.1post0'"
      ]
     },
     "execution_count": 48,
     "metadata": {},
     "output_type": "execute_result"
    }
   ],
   "source": [
    "import autogen\n",
    "autogen.__version__"
   ]
  },
  {
   "cell_type": "markdown",
   "id": "0fd9ca35-fee1-48eb-95e8-c0285d2349be",
   "metadata": {},
   "source": [
    "# Example: Two-agent conversation between a teacher and a student"
   ]
  },
  {
   "cell_type": "markdown",
   "id": "7a16f75e-c13f-4c91-93bd-7bd02665b1c7",
   "metadata": {},
   "source": [
    "## Creating the Necessary Agents"
   ]
  },
  {
   "cell_type": "code",
   "execution_count": 49,
   "id": "457603e1-1260-40a4-a601-6b4308e9a630",
   "metadata": {},
   "outputs": [],
   "source": [
    "import os\n",
    "\n",
    "from autogen import ConversableAgent, LLMConfig\n",
    "llm_config=LLMConfig(api_type=\"openai\", model=\"gpt-4o-mini\")\n",
    "\n",
    "with llm_config:\n",
    "    student_agent = ConversableAgent(\n",
    "        name=\"Student_Agent\",\n",
    "        system_message=\"You are a student willing to learn.\",\n",
    "    )\n",
    "    teacher_agent = ConversableAgent(\n",
    "        name=\"Teacher_Agent\",\n",
    "        system_message=\"You are a math teacher.\",\n",
    "    )\n",
    "\n"
   ]
  },
  {
   "cell_type": "code",
   "execution_count": 52,
   "id": "e7bf4e1e-7be3-44c4-a606-cb7736d1dae0",
   "metadata": {},
   "outputs": [
    {
     "name": "stdout",
     "output_type": "stream",
     "text": [
      "Summarize the takeaway from the conversation. Do not add any introductory phrases.\n"
     ]
    }
   ],
   "source": [
    "print(ConversableAgent.DEFAULT_SUMMARY_PROMPT)"
   ]
  },
  {
   "cell_type": "markdown",
   "id": "2f35086b-3deb-4bab-abce-46b033120bb5",
   "metadata": {},
   "source": [
    "## Initiating the two-agent Chat"
   ]
  },
  {
   "cell_type": "code",
   "execution_count": 56,
   "id": "42ebf2db-d76d-4dbd-8ac8-41e3318ae380",
   "metadata": {},
   "outputs": [
    {
     "name": "stdout",
     "output_type": "stream",
     "text": [
      "Student_Agent (to Teacher_Agent):\n",
      "\n",
      "What is triangle inequality?\n",
      "\n",
      "--------------------------------------------------------------------------------\n",
      "\n",
      ">>>>>>>> USING AUTO REPLY...\n",
      "Teacher_Agent (to Student_Agent):\n",
      "\n",
      "The triangle inequality is a fundamental property in geometry that applies to the lengths of the sides of a triangle. It states that for any triangle with sides of lengths \\( a, b, \\) and \\( c \\), the following inequalities must hold:\n",
      "\n",
      "1. \\( a + b > c \\)\n",
      "2. \\( a + c > b \\)\n",
      "3. \\( b + c > a \\)\n",
      "\n",
      "These inequalities mean that the sum of the lengths of any two sides of a triangle must be greater than the length of the third side. If any of these conditions are not satisfied, then a triangle cannot be formed with those side lengths. \n",
      "\n",
      "The triangle inequality is not only important in geometry but also has implications in various areas of mathematics, including algebra and analysis, often in the context of norms and metrics.\n",
      "\n",
      "--------------------------------------------------------------------------------\n",
      "\n",
      ">>>>>>>> USING AUTO REPLY...\n",
      "Student_Agent (to Teacher_Agent):\n",
      "\n",
      "Can you explain how the triangle inequality is used in real-world applications?\n",
      "\n",
      "--------------------------------------------------------------------------------\n",
      "\n",
      ">>>>>>>> USING AUTO REPLY...\n",
      "Teacher_Agent (to Student_Agent):\n",
      "\n",
      "Absolutely! The triangle inequality has several practical applications in the real world across various fields. Here are a few examples:\n",
      "\n",
      "1. **Navigation and GPS**: When calculating the shortest route between points, the triangle inequality helps determine whether a direct path is shorter than taking a longer path that goes around. For example, if traveling from point A to point C via point B, the straight path from A to C should be shorter than or equal to the sum of the paths from A to B and B to C.\n",
      "\n",
      "2. **Construction and Engineering**: When designing structures, engineers must ensure that materials can be combined to form stable shapes, such as triangles. The triangle inequality ensures that the lengths of beams or cables can support the connections and create stable triangular frameworks.\n",
      "\n",
      "3. **Computer Graphics**: In computer graphics, the triangle inequality is used in algorithms for rendering and modeling shapes. It ensures that the distances calculated between points in 3D space are valid for rendering polygons and shapes accurately.\n",
      "\n",
      "4. **Network Design**: In telecommunications and computer networks, the triangle inequality can help optimize routing paths. For example, ensuring that the path from one node to another via intermediate nodes is efficient and adheres to the geometric properties defined by the triangle inequality.\n",
      "\n",
      "5. **Surveying and Land Measurements**: Surveyors use the triangle inequality to ensure that the distances measured between points on land can form a triangle. This is crucial when determining property boundaries and ensuring accurate land measurements.\n",
      "\n",
      "6. **Data Science and Machine Learning**: In distance metrics, such as those used in clustering algorithms or k-nearest neighbors, the triangle inequality helps ensure that distance calculations between data points are valid, which is essential for classification and regression tasks.\n",
      "\n",
      "These applications illustrate how a mathematical concept like the triangle inequality extends beyond theoretical geometry and plays a crucial role in practical problem-solving across various domains.\n",
      "\n",
      "--------------------------------------------------------------------------------\n",
      "\n",
      ">>>>>>>> TERMINATING RUN (51bf2062-6756-4102-8cad-667dfeb51cb1): Maximum turns (2) reached\n"
     ]
    }
   ],
   "source": [
    "chat_result = student_agent.initiate_chat(\n",
    "    teacher_agent,\n",
    "    message=\"What is triangle inequality?\",\n",
    "    summary_method=\"reflection_with_llm\",\n",
    "    #summary_args={\"summary_prompt\": \"just state what was the student's question.\"},\n",
    "    max_turns=2, #max_turns (int or None): the maximum number of turns for the chat between the two agents. One turn means one conversation round trip. \n",
    ")"
   ]
  },
  {
   "cell_type": "code",
   "execution_count": 62,
   "id": "b04cf410-488d-49ca-b318-1c2ccf2ed6a5",
   "metadata": {},
   "outputs": [
    {
     "name": "stdout",
     "output_type": "stream",
     "text": [
      "[{'content': 'What is triangle inequality?',\n",
      "  'name': 'Student_Agent',\n",
      "  'role': 'assistant'},\n",
      " {'content': 'The triangle inequality is a fundamental property in geometry '\n",
      "             'that applies to the lengths of the sides of a triangle. It '\n",
      "             'states that for any triangle with sides of lengths \\\\( a, b, \\\\) '\n",
      "             'and \\\\( c \\\\), the following inequalities must hold:\\n'\n",
      "             '\\n'\n",
      "             '1. \\\\( a + b > c \\\\)\\n'\n",
      "             '2. \\\\( a + c > b \\\\)\\n'\n",
      "             '3. \\\\( b + c > a \\\\)\\n'\n",
      "             '\\n'\n",
      "             'These inequalities mean that the sum of the lengths of any two '\n",
      "             'sides of a triangle must be greater than the length of the third '\n",
      "             'side. If any of these conditions are not satisfied, then a '\n",
      "             'triangle cannot be formed with those side lengths. \\n'\n",
      "             '\\n'\n",
      "             'The triangle inequality is not only important in geometry but '\n",
      "             'also has implications in various areas of mathematics, including '\n",
      "             'algebra and analysis, often in the context of norms and metrics.',\n",
      "  'name': 'Teacher_Agent',\n",
      "  'role': 'user'},\n",
      " {'content': 'Can you explain how the triangle inequality is used in '\n",
      "             'real-world applications?',\n",
      "  'name': 'Student_Agent',\n",
      "  'role': 'assistant'},\n",
      " {'content': 'Absolutely! The triangle inequality has several practical '\n",
      "             'applications in the real world across various fields. Here are a '\n",
      "             'few examples:\\n'\n",
      "             '\\n'\n",
      "             '1. **Navigation and GPS**: When calculating the shortest route '\n",
      "             'between points, the triangle inequality helps determine whether '\n",
      "             'a direct path is shorter than taking a longer path that goes '\n",
      "             'around. For example, if traveling from point A to point C via '\n",
      "             'point B, the straight path from A to C should be shorter than or '\n",
      "             'equal to the sum of the paths from A to B and B to C.\\n'\n",
      "             '\\n'\n",
      "             '2. **Construction and Engineering**: When designing structures, '\n",
      "             'engineers must ensure that materials can be combined to form '\n",
      "             'stable shapes, such as triangles. The triangle inequality '\n",
      "             'ensures that the lengths of beams or cables can support the '\n",
      "             'connections and create stable triangular frameworks.\\n'\n",
      "             '\\n'\n",
      "             '3. **Computer Graphics**: In computer graphics, the triangle '\n",
      "             'inequality is used in algorithms for rendering and modeling '\n",
      "             'shapes. It ensures that the distances calculated between points '\n",
      "             'in 3D space are valid for rendering polygons and shapes '\n",
      "             'accurately.\\n'\n",
      "             '\\n'\n",
      "             '4. **Network Design**: In telecommunications and computer '\n",
      "             'networks, the triangle inequality can help optimize routing '\n",
      "             'paths. For example, ensuring that the path from one node to '\n",
      "             'another via intermediate nodes is efficient and adheres to the '\n",
      "             'geometric properties defined by the triangle inequality.\\n'\n",
      "             '\\n'\n",
      "             '5. **Surveying and Land Measurements**: Surveyors use the '\n",
      "             'triangle inequality to ensure that the distances measured '\n",
      "             'between points on land can form a triangle. This is crucial when '\n",
      "             'determining property boundaries and ensuring accurate land '\n",
      "             'measurements.\\n'\n",
      "             '\\n'\n",
      "             '6. **Data Science and Machine Learning**: In distance metrics, '\n",
      "             'such as those used in clustering algorithms or k-nearest '\n",
      "             'neighbors, the triangle inequality helps ensure that distance '\n",
      "             'calculations between data points are valid, which is essential '\n",
      "             'for classification and regression tasks.\\n'\n",
      "             '\\n'\n",
      "             'These applications illustrate how a mathematical concept like '\n",
      "             'the triangle inequality extends beyond theoretical geometry and '\n",
      "             'plays a crucial role in practical problem-solving across various '\n",
      "             'domains.',\n",
      "  'name': 'Teacher_Agent',\n",
      "  'role': 'user'}]\n"
     ]
    }
   ],
   "source": [
    "# Get the chat history.\n",
    "import pprint\n",
    "\n",
    "pprint.pprint(chat_result.chat_history)"
   ]
  }
 ],
 "metadata": {
  "kernelspec": {
   "display_name": "Python 3 (ipykernel)",
   "language": "python",
   "name": "python3"
  },
  "language_info": {
   "codemirror_mode": {
    "name": "ipython",
    "version": 3
   },
   "file_extension": ".py",
   "mimetype": "text/x-python",
   "name": "python",
   "nbconvert_exporter": "python",
   "pygments_lexer": "ipython3",
   "version": "3.10.0"
  }
 },
 "nbformat": 4,
 "nbformat_minor": 5
}
