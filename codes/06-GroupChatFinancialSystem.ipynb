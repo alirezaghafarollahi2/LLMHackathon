{
 "cells": [
  {
   "cell_type": "markdown",
   "id": "c12fd009-464b-4c5a-b71b-daba40e75206",
   "metadata": {},
   "source": [
    "# LLM agent Hackathon \n",
    "## Alireza Ghafarollahi, MIT"
   ]
  },
  {
   "cell_type": "markdown",
   "id": "a645493f-a6ab-4184-afe9-a17db1757808",
   "metadata": {},
   "source": [
    "# AG2: Building LLM-powered multi-agent systems"
   ]
  },
  {
   "cell_type": "code",
   "execution_count": null,
   "id": "c3d8b2cd-9fce-42dc-ada7-55795cf7b25b",
   "metadata": {},
   "outputs": [],
   "source": [
    "!pip install ag2\n",
    "!pip install openai"
   ]
  },
  {
   "cell_type": "code",
   "execution_count": 4,
   "id": "75eb2ea6-4962-4f05-b838-2f2ad0269ce1",
   "metadata": {},
   "outputs": [],
   "source": [
    "import json\n",
    "import os\n",
    "\n",
    "with open('config.json') as f:\n",
    "    config = json.load(f)\n",
    "\n",
    "OPENAI_API_KEY = config[\"api_key\"]\n",
    "os.environ[\"OPENAI_API_KEY\"] = OPENAI_API_KEY"
   ]
  },
  {
   "cell_type": "code",
   "execution_count": 1,
   "id": "92c60635-5ea6-4014-b4b2-e654a519af6d",
   "metadata": {},
   "outputs": [
    {
     "data": {
      "text/plain": [
       "'0.9.1post0'"
      ]
     },
     "execution_count": 1,
     "metadata": {},
     "output_type": "execute_result"
    }
   ],
   "source": [
    "import autogen\n",
    "autogen.__version__"
   ]
  },
  {
   "cell_type": "markdown",
   "id": "e052d4e9-ab41-4870-8fc3-645dd6a72622",
   "metadata": {},
   "source": [
    "# Agent Orchestration: Coordinating Multiple Agents\n",
    "---"
   ]
  },
  {
   "cell_type": "markdown",
   "id": "0fd9ca35-fee1-48eb-95e8-c0285d2349be",
   "metadata": {},
   "source": [
    "# Example: Enhancing Our Financial Compliance System with Group Chat\n",
    "\n",
    "## The Challenge\n",
    "### In our Human in the Loop example, we built a finance_bot that could process transactions and get human approval for suspicious ones. However, we now need professional, formatted summary reports of all the transactions.\n",
    "\n",
    "## Our Group Chat Solution\n",
    "### Here's how we'll enhance our system:\n",
    "\n",
    "- ### Keep the finance_bot focused on transaction processing and human approval\n",
    "- ### Create a new summary_bot specialized in generating formatted transaction reports\n",
    "- ### Use the group chat with AutoPattern pattern to automatically transition from finance_bot to summary_bot when all transactions are processed\n",
    "- ### Maintain human oversight for suspicious transaction approval and to terminate the conversation"
   ]
  },
  {
   "cell_type": "markdown",
   "id": "7a16f75e-c13f-4c91-93bd-7bd02665b1c7",
   "metadata": {},
   "source": [
    "## Creating the Necessary Agents"
   ]
  },
  {
   "cell_type": "code",
   "execution_count": 40,
   "id": "457603e1-1260-40a4-a601-6b4308e9a630",
   "metadata": {},
   "outputs": [],
   "source": [
    "from autogen import ConversableAgent, LLMConfig\n",
    "from autogen.agentchat import initiate_group_chat\n",
    "from autogen.agentchat.group.patterns import AutoPattern\n",
    "\n",
    "import os\n",
    "import random\n",
    "\n",
    "# Note: Make sure to set your API key in your environment first\n",
    "\n",
    "# Configure the LLM\n",
    "llm_config = LLMConfig(\n",
    "    api_type=\"openai\",\n",
    "    model=\"gpt-4o-mini\",\n",
    "    temperature=0.2,\n",
    ")\n",
    "\n",
    "# Define the system message for our finance bot\n",
    "finance_system_message = \"\"\"\n",
    "You are a financial compliance assistant. You will be given a set of transaction descriptions.\n",
    "For each transaction:\n",
    "- If it seems suspicious (e.g., amount > $10,000, vendor is unusual, memo is vague), ask the human agent for approval.\n",
    "- Otherwise, approve it automatically.\n",
    "Provide the full set of transactions to approve at one time.\n",
    "If the human gives a general approval, it applies to all transactions requiring approval.\n",
    "When all transactions are processed, summarize the results and say \"You can type exit to finish\".\n",
    "\"\"\"\n",
    "\n",
    "# Define the system message for the summary agent\n",
    "summary_system_message = \"\"\"\n",
    "You are a financial summary assistant. You will be given a set of transaction details and their approval status.\n",
    "Your task is to summarize the results of the transactions processed by the finance bot.\n",
    "Generate a markdown table with the following columns:\n",
    "- Vendor\n",
    "- Memo\n",
    "- Amount\n",
    "- Status (Approved/Rejected)\n",
    "The summary should include the total number of transactions, the number of approved transactions, and the number of rejected transactions.\n",
    "The summary should be concise and clear.\n",
    "\"\"\"\n",
    "\n",
    "# Create the finance agent with LLM intelligence\n",
    "with llm_config:\n",
    "    finance_bot = ConversableAgent(\n",
    "        name=\"finance_bot\",\n",
    "        system_message=finance_system_message,\n",
    "    )\n",
    "    summary_bot = ConversableAgent(\n",
    "        name=\"summary_bot\",\n",
    "        system_message=summary_system_message,\n",
    "    )\n",
    "\n",
    "# Create the human agent for oversight\n",
    "human = ConversableAgent(\n",
    "    name=\"human\",\n",
    "    human_input_mode=\"ALWAYS\",  # Always ask for human input\n",
    ")"
   ]
  },
  {
   "cell_type": "markdown",
   "id": "2f35086b-3deb-4bab-abce-46b033120bb5",
   "metadata": {},
   "source": [
    "## Initiating the Group Chat"
   ]
  },
  {
   "cell_type": "code",
   "execution_count": 41,
   "id": "42ebf2db-d76d-4dbd-8ac8-41e3318ae380",
   "metadata": {},
   "outputs": [
    {
     "name": "stdout",
     "output_type": "stream",
     "text": [
      "human (to chat_manager):\n",
      "\n",
      "Please process the following transactions one at a time:\n",
      "\n",
      "1. Transaction: $1500 to Initech. Memo: Quarterly supplies.\n",
      "2. Transaction: $23000 to Staples. Memo: Routine payment.\n",
      "3. Transaction: $23000 to CyberSins Ltd. Memo: Routine payment.\n",
      "\n",
      "--------------------------------------------------------------------------------\n",
      "\n",
      "Next speaker: finance_bot\n",
      "\n",
      "\n",
      ">>>>>>>> USING AUTO REPLY...\n",
      "finance_bot (to chat_manager):\n",
      "\n",
      "Let's process the transactions:\n",
      "\n",
      "1. Transaction: $1500 to Initech. Memo: Quarterly supplies. \n",
      "   - This transaction is approved automatically.\n",
      "\n",
      "2. Transaction: $23000 to Staples. Memo: Routine payment.\n",
      "   - This transaction seems suspicious due to the amount exceeding $10,000. I need your approval.\n",
      "\n",
      "3. Transaction: $23000 to CyberSins Ltd. Memo: Routine payment.\n",
      "   - This transaction also seems suspicious due to the amount exceeding $10,000. I need your approval.\n",
      "\n",
      "Please provide your approval for the transactions requiring it, or a general approval for all.\n",
      "\n",
      "--------------------------------------------------------------------------------\n",
      "\n",
      "Next speaker: human\n",
      "\n"
     ]
    },
    {
     "name": "stdin",
     "output_type": "stream",
     "text": [
      "Replying as human. Provide feedback to chat_manager. Press enter to skip and use auto-reply, or type 'exit' to end the conversation:  approve\n"
     ]
    },
    {
     "name": "stdout",
     "output_type": "stream",
     "text": [
      "human (to chat_manager):\n",
      "\n",
      "approve\n",
      "\n",
      "--------------------------------------------------------------------------------\n",
      "\n",
      "Next speaker: finance_bot\n",
      "\n",
      "\n",
      ">>>>>>>> USING AUTO REPLY...\n",
      "finance_bot (to chat_manager):\n",
      "\n",
      "Thank you for your approval. Here are the results of the transactions processed:\n",
      "\n",
      "1. Transaction: $1500 to Initech. Memo: Quarterly supplies. - Approved\n",
      "2. Transaction: $23000 to Staples. Memo: Routine payment. - Approved\n",
      "3. Transaction: $23000 to CyberSins Ltd. Memo: Routine payment. - Approved\n",
      "\n",
      "All transactions have been processed successfully. You can type exit to finish.\n",
      "\n",
      "--------------------------------------------------------------------------------\n",
      "\n",
      "Next speaker: summary_bot\n",
      "\n",
      "\n",
      ">>>>>>>> USING AUTO REPLY...\n",
      "summary_bot (to chat_manager):\n",
      "\n",
      "Here is the summary of the transactions processed:\n",
      "\n",
      "| Vendor          | Memo                  | Amount  | Status   |\n",
      "|-----------------|-----------------------|---------|----------|\n",
      "| Initech         | Quarterly supplies     | $1500   | Approved  |\n",
      "| Staples         | Routine payment        | $23000  | Approved  |\n",
      "| CyberSins Ltd.  | Routine payment        | $23000  | Approved  |\n",
      "\n",
      "**Summary:**\n",
      "- Total Transactions: 3\n",
      "- Approved Transactions: 3\n",
      "- Rejected Transactions: 0\n",
      "\n",
      "--------------------------------------------------------------------------------\n",
      "\n",
      "Next speaker: human\n",
      "\n"
     ]
    },
    {
     "name": "stdin",
     "output_type": "stream",
     "text": [
      "Replying as human. Provide feedback to chat_manager. Press enter to skip and use auto-reply, or type 'exit' to end the conversation:  exit\n"
     ]
    },
    {
     "name": "stdout",
     "output_type": "stream",
     "text": [
      "\n",
      ">>>>>>>> TERMINATING RUN (21a80879-7c3f-490c-92c8-320f21e4e2ac): User requested to end the conversation\n",
      "\n",
      ">>>>>>>> TERMINATING RUN (46a00760-a2f0-46d4-9a83-cdc3f9b06885): No reply generated\n"
     ]
    }
   ],
   "source": [
    "# Generate sample transactions - this creates different transactions each time you run\n",
    "VENDORS = [\"Staples\", \"Acme Corp\", \"CyberSins Ltd\", \"Initech\", \"Globex\", \"Unicorn LLC\"]\n",
    "MEMOS = [\"Quarterly supplies\", \"Confidential\", \"NDA services\", \"Routine payment\", \"Urgent request\", \"Reimbursement\"]\n",
    "\n",
    "def generate_transaction():\n",
    "    amount = random.choice([500, 1500, 9999, 12000, 23000, 4000])\n",
    "    vendor = random.choice(VENDORS)\n",
    "    memo = random.choice(MEMOS)\n",
    "    return f\"Transaction: ${amount} to {vendor}. Memo: {memo}.\"\n",
    "\n",
    "# Generate 3 random transactions\n",
    "transactions = [generate_transaction() for _ in range(3)]\n",
    "\n",
    "# Format the initial message\n",
    "initial_prompt = (\n",
    "    \"Please process the following transactions one at a time:\\n\\n\" +\n",
    "    \"\\n\".join([f\"{i+1}. {tx}\" for i, tx in enumerate(transactions)])\n",
    ")\n",
    "\n",
    "# Create pattern for the group chat\n",
    "pattern = AutoPattern(\n",
    "    initial_agent=finance_bot,                   # Start with the finance bot\n",
    "    agents=[finance_bot, summary_bot],           # All agents in the group chat\n",
    "    user_agent=human,                            # Provide our human-in-the-loop agent\n",
    "    group_manager_args={\"llm_config\": llm_config}  # Config for group manager\n",
    ")\n",
    "\n",
    "# Initialize the group chat\n",
    "result, context_variables, last_agent = initiate_group_chat(\n",
    "    pattern=pattern,\n",
    "    messages=initial_prompt,                     # Initial request with transactions\n",
    ")"
   ]
  },
  {
   "cell_type": "code",
   "execution_count": null,
   "id": "39403877-8d3d-49ca-b016-06d7464b9ec0",
   "metadata": {},
   "outputs": [],
   "source": []
  }
 ],
 "metadata": {
  "kernelspec": {
   "display_name": "Python 3 (ipykernel)",
   "language": "python",
   "name": "python3"
  },
  "language_info": {
   "codemirror_mode": {
    "name": "ipython",
    "version": 3
   },
   "file_extension": ".py",
   "mimetype": "text/x-python",
   "name": "python",
   "nbconvert_exporter": "python",
   "pygments_lexer": "ipython3",
   "version": "3.10.0"
  }
 },
 "nbformat": 4,
 "nbformat_minor": 5
}
