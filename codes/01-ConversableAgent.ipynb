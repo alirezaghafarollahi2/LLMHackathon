{
 "cells": [
  {
   "cell_type": "markdown",
   "id": "c12fd009-464b-4c5a-b71b-daba40e75206",
   "metadata": {},
   "source": [
    "# LLM agent Hackathon \n",
    "## Alireza Ghafarollahi, MIT"
   ]
  },
  {
   "cell_type": "markdown",
   "id": "a645493f-a6ab-4184-afe9-a17db1757808",
   "metadata": {},
   "source": [
    "# AG2: Building LLM-powered multi-agent systems"
   ]
  },
  {
   "cell_type": "code",
   "execution_count": null,
   "id": "c3d8b2cd-9fce-42dc-ada7-55795cf7b25b",
   "metadata": {},
   "outputs": [],
   "source": [
    "!pip install ag2\n",
    "!pip install openai"
   ]
  },
  {
   "cell_type": "code",
   "execution_count": 4,
   "id": "75eb2ea6-4962-4f05-b838-2f2ad0269ce1",
   "metadata": {},
   "outputs": [],
   "source": [
    "import json\n",
    "import os\n",
    "\n",
    "with open('config.json') as f:\n",
    "    config = json.load(f)\n",
    "\n",
    "OPENAI_API_KEY = config[\"api_key\"]\n",
    "os.environ[\"OPENAI_API_KEY\"] = OPENAI_API_KEY"
   ]
  },
  {
   "cell_type": "code",
   "execution_count": 1,
   "id": "92c60635-5ea6-4014-b4b2-e654a519af6d",
   "metadata": {},
   "outputs": [
    {
     "data": {
      "text/plain": [
       "'0.9.1post0'"
      ]
     },
     "execution_count": 1,
     "metadata": {},
     "output_type": "execute_result"
    }
   ],
   "source": [
    "import autogen\n",
    "autogen.__version__"
   ]
  },
  {
   "cell_type": "markdown",
   "id": "14741333-c4ae-4d06-9777-fa75a5b9afbf",
   "metadata": {},
   "source": [
    "# Interacting with a Conversable Agent\n",
    "---"
   ]
  },
  {
   "cell_type": "markdown",
   "id": "97f0ac26-9a05-470a-8c1f-3db83d40a134",
   "metadata": {},
   "source": [
    "## Example 1: answer to user's prompt"
   ]
  },
  {
   "cell_type": "markdown",
   "id": "9fba0d1a-9444-4aaf-9ba6-9a91c2795c04",
   "metadata": {},
   "source": [
    "## Create a ConversableAgent"
   ]
  },
  {
   "cell_type": "code",
   "execution_count": 34,
   "id": "191f800a-2def-4da2-9b67-fa7e0b3c0a16",
   "metadata": {},
   "outputs": [],
   "source": [
    "from autogen import LLMConfig, ConversableAgent\n",
    "\n",
    "llm_config = LLMConfig(api_type=\"openai\", model='gpt-4o-mini')\n",
    "\n",
    "my_agent = ConversableAgent(\n",
    "    name=\"helpful_agent\", \n",
    "    system_message=\"You are a helpful AI assistant\",\n",
    "    llm_config=llm_config,\n",
    ")"
   ]
  },
  {
   "cell_type": "markdown",
   "id": "f4cc55d7-5e58-4b26-abc8-32f1436bcc95",
   "metadata": {},
   "source": [
    "## Interact with the agent"
   ]
  },
  {
   "cell_type": "code",
   "execution_count": 35,
   "id": "be595d91-ab95-4b72-9e45-ce2ca25db052",
   "metadata": {},
   "outputs": [
    {
     "name": "stdout",
     "output_type": "stream",
     "text": [
      "user (to helpful_agent):\n",
      "\n",
      "What's the capital of France?\n",
      "\n",
      "--------------------------------------------------------------------------------\n",
      "\n",
      ">>>>>>>> USING AUTO REPLY...\n",
      "helpful_agent (to user):\n",
      "\n",
      "The capital of France is Paris.\n",
      "\n",
      "--------------------------------------------------------------------------------\n"
     ]
    },
    {
     "name": "stdin",
     "output_type": "stream",
     "text": [
      "Replying as user. Provide feedback to helpful_agent. Press enter to skip and use auto-reply, or type 'exit' to end the conversation:  thanks\n"
     ]
    },
    {
     "name": "stdout",
     "output_type": "stream",
     "text": [
      "user (to helpful_agent):\n",
      "\n",
      "thanks\n",
      "\n",
      "--------------------------------------------------------------------------------\n",
      "\n",
      ">>>>>>>> USING AUTO REPLY...\n",
      "helpful_agent (to user):\n",
      "\n",
      "You're welcome! If you have any more questions, feel free to ask!\n",
      "\n",
      "--------------------------------------------------------------------------------\n",
      "\n",
      ">>>>>>>> TERMINATING RUN (1eb27744-dd5f-4445-8fcb-118dfbf9d767): Maximum turns (2) reached\n"
     ]
    }
   ],
   "source": [
    "# Establish the workflow\n",
    "response = my_agent.run(\n",
    "    message=\"What's the capital of France?\",\n",
    "    max_turns=2,  # Limit conversation length\n",
    "    user_input=False  # Allow user to provide input\n",
    ")\n",
    "\n",
    "# Process the workflow\n",
    "response.process()"
   ]
  },
  {
   "cell_type": "markdown",
   "id": "da6fb8f1-9b88-491d-b81c-c569e128b2f8",
   "metadata": {},
   "source": [
    "## Example 2: Let's create a standup comedian"
   ]
  },
  {
   "cell_type": "code",
   "execution_count": 16,
   "id": "9760ca3e-3b68-4a4e-9885-affd6148df44",
   "metadata": {},
   "outputs": [
    {
     "name": "stdout",
     "output_type": "stream",
     "text": [
      "user (to comedian_agent):\n",
      "\n",
      "Tell me a funny short story in persian!\n",
      "\n",
      "--------------------------------------------------------------------------------\n",
      "\n",
      ">>>>>>>> USING AUTO REPLY...\n",
      "comedian_agent (to user):\n",
      "\n",
      "یک روز، یک مرد ایرانی به بازار رفت تا خرید کند. اول رفت به مغازه‌ی سبزی‌فروشی. وقتی سبزی‌ها را خرید، قیمت را پرسید. سبزی‌فروش گفت: «پنج هزار تومان.» \n",
      "\n",
      "مرد گفت: «ای بابا! چرا اینقدر گرونه؟» \n",
      "\n",
      "سبزی‌فروش گفت: «چون کیفیتش بالاست!». \n",
      "\n",
      "مرد کمی فکر کرد و گفت: «یک دقیقه صبر کن، من برمی‌گردم!» \n",
      "\n",
      "رفت و بعد از چند دقیقه، با دوتا «کیفیت» از همون سبزی‌فروشی برگشت. \n",
      "\n",
      "گفت: «حالا بگو قیمت اینا چقدره؟» \n",
      "\n",
      "سبزی‌فروش با تعجب گفت: «ولی آقا، اینا که سبزی نیستن!» \n",
      "\n",
      "مرد خندید و گفت: «پس ببین، هر چیزی یه کیفیتی داره!» \n",
      "\n",
      "سبزی‌فروش هم از این شوخی خندید و قیمت سبزی‌ها رو نصف کرد! \n",
      "\n",
      "حالا هر وقت کسی از مرد می‌پرسه چرا سبزی گرون می‌خری، میگه: «بیشتر از کیفیتش به تسویه حساب فکر میکنم!» 😂\n",
      "\n",
      "--------------------------------------------------------------------------------\n",
      "user (to comedian_agent):\n",
      "\n",
      "\n",
      "\n",
      "--------------------------------------------------------------------------------\n",
      "\n",
      ">>>>>>>> USING AUTO REPLY...\n",
      "comedian_agent (to user):\n",
      "\n",
      "به نظر می‌رسد که داستان قبلی شما را تحت تأثیر قرار نداد! بیایید یک داستان سرگرم‌کننده دیگر بگوییم:\n",
      "\n",
      "یک روز، یک پدر ایرانی به پسرش گفت: «پسرم، امروز می‌خواهیم با هم به باغ برویم.» پسر خیلی خوشحال شد و گفتم: «آره، بهترین برنامه‌ای که می‌توانیم داشته باشیم!»\n",
      "\n",
      "وقتی رسیدند به باغ، پدر گفت: «خب، تو برو بازی کن و من می‌روم نشسته، یک چای می‌خورم.»\n",
      "\n",
      "پسر به دور و بر دوید و بعد از ده دقیقه برگشت و با صدای بلند گفت: «بابا، می‌دونی چطور می‌گن که تو باغ ها هر چیزی می‌تونه اتفاق بیفته؟»\n",
      "\n",
      "پدر با کنجکاوی گفت: «نه، چه اتفاقی افتاده؟» \n",
      "\n",
      "پسر گفت: «من دیدم که یک سنجاب سریع‌تر از من دوید!»\n",
      "\n",
      "پدر خندید و گفت: «عزیزم، این سنجاب تو باغ است، من از روزی که تو به دنیا آمدی برای تو هم محیط طبیعی‌اش را فراهم کردم!» 😂\n",
      "\n",
      "بنابراین، هر بار که پسرش در مورد سنجاب‌ها صحبت می‌کرد، پدر می‌گفت: «پسرم، به یاد داشته باش، همیشه تو باغ سنجاب‌ها سریع‌ترند!»\n",
      "\n",
      "--------------------------------------------------------------------------------\n",
      "\n",
      ">>>>>>>> TERMINATING RUN (982955df-e1f9-48bc-87f0-36522f0fe26b): Maximum turns (2) reached\n"
     ]
    }
   ],
   "source": [
    "from autogen import ConversableAgent, LLMConfig\n",
    "import os\n",
    "\n",
    "# Configure the LLM (we created this in the previous section)\n",
    "llm_config = LLMConfig(\n",
    "    api_type=\"openai\",\n",
    "    model=\"gpt-4o-mini\",\n",
    "    temperature=1,\n",
    ")\n",
    "\n",
    "# Create a basic financial agent\n",
    "comedian_agent = ConversableAgent(\n",
    "    name=\"comedian_agent\",\n",
    "    system_message=\"You are a creative Iranian standup comedian.\",\n",
    "    llm_config=llm_config\n",
    ")\n",
    "\n",
    "# Run the agent with a prompt\n",
    "response = comedian_agent.run(\n",
    "    message=\"Tell me a funny short story in persian!\",\n",
    "    max_turns=2,\n",
    "    user_input=False,\n",
    ")\n",
    "\n",
    "# Iterate through the chat automatically with console output\n",
    "response.process()"
   ]
  }
 ],
 "metadata": {
  "kernelspec": {
   "display_name": "Python 3 (ipykernel)",
   "language": "python",
   "name": "python3"
  },
  "language_info": {
   "codemirror_mode": {
    "name": "ipython",
    "version": 3
   },
   "file_extension": ".py",
   "mimetype": "text/x-python",
   "name": "python",
   "nbconvert_exporter": "python",
   "pygments_lexer": "ipython3",
   "version": "3.10.0"
  }
 },
 "nbformat": 4,
 "nbformat_minor": 5
}
