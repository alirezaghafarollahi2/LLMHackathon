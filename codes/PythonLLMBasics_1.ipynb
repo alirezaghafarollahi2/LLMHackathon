{
 "cells": [
  {
   "cell_type": "markdown",
   "id": "c12fd009-464b-4c5a-b71b-daba40e75206",
   "metadata": {},
   "source": [
    "# LLM agent Hackathon \n",
    "### Alireza Ghafarollahi, MIT\n",
    "\n",
    "## Topic: A pre-programmed multi-agent system with Python"
   ]
  },
  {
   "cell_type": "code",
   "execution_count": 14,
   "id": "1232795b-dfe0-4953-b836-041f5207096b",
   "metadata": {},
   "outputs": [
    {
     "name": "stdout",
     "output_type": "stream",
     "text": [
      "openai version: 1.76.0\n"
     ]
    }
   ],
   "source": [
    "import json\n",
    "import os\n",
    "import re\n",
    "import openai\n",
    "from openai import OpenAI\n",
    "import json\n",
    "import os.path as osp\n",
    "import subprocess\n",
    "\n",
    "print(f'openai version: {openai.__version__}')"
   ]
  },
  {
   "cell_type": "markdown",
   "id": "b52848e4-4623-4a9f-b5d0-7a0ddb288cc0",
   "metadata": {},
   "source": [
    "## config.json contains your openai api key"
   ]
  },
  {
   "cell_type": "code",
   "execution_count": 19,
   "id": "c1ad6f79-197f-4bcd-ac21-8dce67b89de2",
   "metadata": {},
   "outputs": [],
   "source": [
    "with open('config.json') as f:\n",
    "    config = json.load(f)\n",
    "\n",
    "OPENAI_API_KEY = config[\"api_key\"]\n",
    "os.environ[\"OPENAI_API_KEY\"] = OPENAI_API_KEY"
   ]
  },
  {
   "cell_type": "code",
   "execution_count": 28,
   "id": "cab0e58b-a216-4206-8b55-ecd45e6671ce",
   "metadata": {},
   "outputs": [],
   "source": [
    "from openai import OpenAI\n",
    "\n",
    "def get_response_from_llm(model: str, messages: list, temperature: float = 0.7, max_completion_tokens: int = 500) -> str:\n",
    "    \"\"\"\n",
    "    Sends a prompt to an OpenAI chat model and returns the generated response content.\n",
    "\n",
    "    Parameters:\n",
    "    - model (str): The name of the OpenAI model to use (e.g., \"gpt-4\", \"gpt-4o\", \"gpt-3.5-turbo\").\n",
    "    - messages (list): A list of message dicts in the format [{\"role\": \"developer\"|\"user\"|\"assistant\", \"content\": \"text\"}].\n",
    "    - temperature (float): Controls randomness in the output. Higher values (e.g., 1.0) make output more random, lower values (e.g., 0.2) more focused.\n",
    "    - max_completion_tokens (int): Maximum number of tokens in the response.\n",
    "\n",
    "    Returns:\n",
    "    - str: The content of the assistant's reply.\n",
    "    \"\"\"\n",
    "    client = OpenAI()\n",
    "    response = client.chat.completions.create(\n",
    "        model=model,\n",
    "        messages=messages,\n",
    "        temperature=temperature,\n",
    "        max_tokens=max_completion_tokens,\n",
    "    )\n",
    "    \n",
    "    content = response.choices[0].message.content\n",
    "    return content"
   ]
  },
  {
   "cell_type": "code",
   "execution_count": 29,
   "id": "d0cd7b99-1eb4-40d3-9994-d19a709c73d1",
   "metadata": {},
   "outputs": [],
   "source": [
    "response = get_response_from_llm(\n",
    "    model='gpt-4o',\n",
    "    messages=[{\"role\": \"user\", \"content\": \"\"\"You are a scientist. Briefly and accurately respond to the following question:\n",
    "What are the current hot trends in AI?\"\"\"}],\n",
    "    temperature=1,\n",
    "              )"
   ]
  },
  {
   "cell_type": "code",
   "execution_count": 31,
   "id": "4f5badbf-14c6-4f7c-a40f-cb86106d2cbc",
   "metadata": {},
   "outputs": [
    {
     "name": "stdout",
     "output_type": "stream",
     "text": [
      "As of 2023, several hot trends in AI include:\n",
      "\n",
      "1. **Generative AI**: AI models, particularly large language models (LLMs) and generative adversarial networks (GANs), are gaining traction for their ability to create text, images, music, and even video content. OpenAI's GPT series and DALL-E are prominent examples.\n",
      "\n",
      "2. **AI in Healthcare**: AI is increasingly being used for drug discovery, personalized medicine, diagnostic imaging, and predictive analytics for patient outcomes.\n",
      "\n",
      "3. **Edge AI and IoT**: Deploying AI at the edge, such as on IoT devices and smartphones, facilitates real-time processing with lower latency and improved privacy.\n",
      "\n",
      "4. **Explainability and Trustworthy AI**: As AI systems are integrated into critical applications, there is a growing focus on explainable AI (XAI) to ensure transparency and trust.\n",
      "\n",
      "5. **AI Ethics and Regulation**: There is an increasing emphasis on developing ethical guidelines and regulations to ensure AI is used responsibly and does not cause harm.\n",
      "\n",
      "6. **AI for Climate and Sustainability**: AI technologies are being harnessed to address environmental issues, optimize resource usage, and develop sustainable practices.\n",
      "\n",
      "7. **AI-Augmented Workflows**: AI tools are being integrated into various business processes to enhance productivity and decision-making capabilities.\n",
      "\n",
      "These trends reflect the expanding role of AI across different sectors and the associated challenges and opportunities.\n"
     ]
    }
   ],
   "source": [
    "print(response)"
   ]
  },
  {
   "cell_type": "markdown",
   "id": "c24bfe8b-7b7b-425f-9a27-843fbff46e84",
   "metadata": {},
   "source": [
    "## Adding msg_history to keep track of previous converstations"
   ]
  },
  {
   "cell_type": "code",
   "execution_count": 40,
   "id": "a04509a3-76e4-433d-a1a7-74a99cd03ab3",
   "metadata": {},
   "outputs": [],
   "source": [
    "def get_response_from_llm(model: str, messages: list, msg_history=None, temperature: float = 0.7, max_completion_tokens: int = 500) -> str:\n",
    "    \"\"\"\n",
    "    Sends a prompt to an OpenAI chat model and returns the generated response content.\n",
    "\n",
    "    Parameters:\n",
    "    - model (str): The name of the OpenAI model to use (e.g., \"gpt-4\", \"gpt-4o\", \"gpt-3.5-turbo\").\n",
    "    - messages (list): A list of message dicts in the format [{\"role\": \"developer\"|\"user\"|\"assistant\", \"content\": \"text\"}].\n",
    "    - temperature (float): Controls randomness in the output. Higher values (e.g., 1.0) make output more random, lower values (e.g., 0.2) more focused.\n",
    "    - max_completion_tokens (int): Maximum number of tokens in the response.\n",
    "\n",
    "    Returns:\n",
    "    - str: The content of the assistant's reply.\n",
    "    \"\"\"\n",
    "    if msg_history is None:\n",
    "        msg_history = []\n",
    "\n",
    "    new_msg_history = msg_history + messages\n",
    "    \n",
    "    client = OpenAI()\n",
    "    response = client.chat.completions.create(\n",
    "        model=model,\n",
    "        messages=new_msg_history,\n",
    "        temperature=temperature,\n",
    "        max_tokens=max_completion_tokens,\n",
    "    )\n",
    "    \n",
    "    content = response.choices[0].message.content\n",
    "    new_msg_history = new_msg_history + [{\"role\": \"assistant\", \"content\": content}]\n",
    "    \n",
    "    return content, new_msg_history"
   ]
  },
  {
   "cell_type": "code",
   "execution_count": 41,
   "id": "e221f980-c5f6-40e7-b021-6b31fda12be7",
   "metadata": {},
   "outputs": [],
   "source": [
    "messages = [{\"role\": \"user\", \"content\": \"\"\"You are a scientist. Briefly and accurately respond to the following question:\n",
    "What are the current hot trends in AI?\"\"\"}]\n",
    "\n",
    "response, msg_history = get_response_from_llm(\n",
    "    model='gpt-4o',\n",
    "    messages=messages,\n",
    "    msg_history=None,\n",
    "    temperature=1,\n",
    "              )"
   ]
  },
  {
   "cell_type": "code",
   "execution_count": 42,
   "id": "3051ddd4-e3bd-4eea-b3dc-0076fef83583",
   "metadata": {},
   "outputs": [
    {
     "data": {
      "text/plain": [
       "[{'role': 'user',\n",
       "  'content': 'You are a scientist. Briefly and accurately respond to the following question:\\nWhat are the current hot trends in AI?'},\n",
       " {'role': 'assistant',\n",
       "  'content': \"As of 2023, several hot trends in AI include:\\n\\n1. **Generative AI**: Technologies like Generative Adversarial Networks (GANs) and transformers have enabled advancements in creating high-resolution images, music, and text, with applications from art to synthetic data generation.\\n\\n2. **Large Language Models (LLMs)**: These models, such as GPT and its successors, continue to improve in natural language understanding and generation, with applications in chatbots, content creation, and translation.\\n\\n3. **AI in Healthcare**: AI is increasingly used for personalized medicine, drug discovery, and diagnostic tools, leveraging vast amounts of medical data to improve patient outcomes.\\n\\n4. **Ethical and Explainable AI**: There is growing focus on developing AI systems that are transparent, unbiased, and accountable, alongside regulations to ensure ethical use of AI technologies.\\n\\n5. **AI for Climate and Environment**: AI applications in climate modeling, precision agriculture, and energy management aim to address environmental challenges and promote sustainability.\\n\\n6. **Edge AI**: AI models are being optimized to run on edge devices, allowing for real-time data processing and reducing the need for cloud-based computation, which is crucial for IoT and mobile applications.\\n\\n7. **AI in Autonomous Systems**: Progress in AI is enhancing autonomous vehicles, drones, and robotics, improving their navigation, decision-making, and interaction capabilities.\\n\\nThese trends reflect AI's growing integration into various sectors, driven by advancements in algorithms, computational power, and data availability.\"}]"
      ]
     },
     "execution_count": 42,
     "metadata": {},
     "output_type": "execute_result"
    }
   ],
   "source": [
    "msg_history"
   ]
  },
  {
   "cell_type": "code",
   "execution_count": 43,
   "id": "90716171-5b81-4e27-a075-e3b7f36aacce",
   "metadata": {},
   "outputs": [],
   "source": [
    "messages = [{\"role\": \"user\", \"content\": \"\"\"You are a scientist. Summarize the text that was just created.\"\"\"}]\n",
    "\n",
    "response, msg_history = get_response_from_llm(\n",
    "    model='gpt-4o',\n",
    "    messages=messages,\n",
    "    msg_history=msg_history,\n",
    "    temperature=1,\n",
    "              )"
   ]
  },
  {
   "cell_type": "code",
   "execution_count": 44,
   "id": "c6b10560-1c51-49db-8a95-bbc720bd5a74",
   "metadata": {},
   "outputs": [
    {
     "data": {
      "text/plain": [
       "[{'role': 'user',\n",
       "  'content': 'You are a scientist. Briefly and accurately respond to the following question:\\nWhat are the current hot trends in AI?'},\n",
       " {'role': 'assistant',\n",
       "  'content': \"As of 2023, several hot trends in AI include:\\n\\n1. **Generative AI**: Technologies like Generative Adversarial Networks (GANs) and transformers have enabled advancements in creating high-resolution images, music, and text, with applications from art to synthetic data generation.\\n\\n2. **Large Language Models (LLMs)**: These models, such as GPT and its successors, continue to improve in natural language understanding and generation, with applications in chatbots, content creation, and translation.\\n\\n3. **AI in Healthcare**: AI is increasingly used for personalized medicine, drug discovery, and diagnostic tools, leveraging vast amounts of medical data to improve patient outcomes.\\n\\n4. **Ethical and Explainable AI**: There is growing focus on developing AI systems that are transparent, unbiased, and accountable, alongside regulations to ensure ethical use of AI technologies.\\n\\n5. **AI for Climate and Environment**: AI applications in climate modeling, precision agriculture, and energy management aim to address environmental challenges and promote sustainability.\\n\\n6. **Edge AI**: AI models are being optimized to run on edge devices, allowing for real-time data processing and reducing the need for cloud-based computation, which is crucial for IoT and mobile applications.\\n\\n7. **AI in Autonomous Systems**: Progress in AI is enhancing autonomous vehicles, drones, and robotics, improving their navigation, decision-making, and interaction capabilities.\\n\\nThese trends reflect AI's growing integration into various sectors, driven by advancements in algorithms, computational power, and data availability.\"},\n",
       " {'role': 'user',\n",
       "  'content': 'You are a scientist. Summarize the text that was just created.'},\n",
       " {'role': 'assistant',\n",
       "  'content': \"Current AI trends in 2023 include advancements in generative AI for creating content, large language models for improved language tasks, and AI applications in healthcare for personalized treatment and diagnostics. There's a focus on ethical and explainable AI, emphasizing transparency and accountability. AI is also being utilized for environmental sustainability, edge computing for real-time processing, and enhancing autonomous systems like vehicles and drones. These developments are supported by improvements in algorithms, computational power, and data access.\"}]"
      ]
     },
     "execution_count": 44,
     "metadata": {},
     "output_type": "execute_result"
    }
   ],
   "source": [
    "msg_history"
   ]
  },
  {
   "cell_type": "code",
   "execution_count": null,
   "id": "be453b73-46e2-4491-86c3-668aca4e4827",
   "metadata": {},
   "outputs": [],
   "source": []
  }
 ],
 "metadata": {
  "kernelspec": {
   "display_name": "Python 3 (ipykernel)",
   "language": "python",
   "name": "python3"
  },
  "language_info": {
   "codemirror_mode": {
    "name": "ipython",
    "version": 3
   },
   "file_extension": ".py",
   "mimetype": "text/x-python",
   "name": "python",
   "nbconvert_exporter": "python",
   "pygments_lexer": "ipython3",
   "version": "3.10.0"
  }
 },
 "nbformat": 4,
 "nbformat_minor": 5
}
